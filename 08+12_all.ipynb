{
 "cells": [
  {
   "cell_type": "code",
   "execution_count": null,
   "metadata": {},
   "outputs": [],
   "source": [
    "import pandas as pd\n",
    "import numpy as np\n",
    "import matplotlib.pyplot as plt\n",
    "from scipy.stats import linregress"
   ]
  },
  {
   "cell_type": "code",
   "execution_count": null,
   "metadata": {},
   "outputs": [],
   "source": [
    "pres = pd.read_csv(\"p_all.csv\")\n",
    "bgc = pd.read_csv(\"b_all.csv\")\n",
    "stategroups = pd.read_csv(\"stategroups.csv\")"
   ]
  },
  {
   "cell_type": "code",
   "execution_count": null,
   "metadata": {},
   "outputs": [],
   "source": [
    "pres"
   ]
  },
  {
   "cell_type": "code",
   "execution_count": null,
   "metadata": {},
   "outputs": [],
   "source": [
    "bgc"
   ]
  },
  {
   "cell_type": "code",
   "execution_count": null,
   "metadata": {},
   "outputs": [],
   "source": [
    "bgc08 = bgc.loc[bgc[\"year\"] == 2008]\n",
    "pres08 = pres.loc[pres[\"Year\"] == 2008]"
   ]
  },
  {
   "cell_type": "code",
   "execution_count": null,
   "metadata": {},
   "outputs": [],
   "source": [
    "bgc12 = bgc.loc[bgc[\"year\"] == 2012]\n",
    "pres12 = pres.loc[pres[\"Year\"] == 2012]"
   ]
  },
  {
   "cell_type": "code",
   "execution_count": null,
   "metadata": {},
   "outputs": [],
   "source": [
    "bgc_bo = bgc08.append(bgc12, ignore_index=True)\n",
    "bgc_bo = bgc_bo.loc[bgc_bo[\"state\"] != \"Total\"]\n",
    "pres_bo = pres08.append(pres12, ignore_index=True)\n",
    "pres_bo = pres_bo.loc[pres_bo[\"State\"] != \"Total\"]\n",
    "bgc_bo = bgc_bo.rename(columns={\"state\":\"State\",\"year\":\"Year\"})"
   ]
  },
  {
   "cell_type": "code",
   "execution_count": null,
   "metadata": {},
   "outputs": [],
   "source": [
    "compare = bgc_bo.merge(pres_bo,\"outer\")\n",
    "compare"
   ]
  },
  {
   "cell_type": "code",
   "execution_count": null,
   "metadata": {},
   "outputs": [],
   "source": [
    "x_values = compare[\"PercentD\"]\n",
    "y_values = compare[\"pct\"]\n",
    "\n",
    "plt.scatter(compare[\"PercentD\"],compare[\"pct\"],s=3)\n",
    "plt.title(\"Background Check Increases vs. Democratic Votes for President,\\n 2008 & 2012 - All States\")\n",
    "plt.ylabel(\"Background Check Increases (%)\")\n",
    "plt.xlabel(\"Democratic Votes for President (%)\")\n",
    "plt.grid()\n",
    "slope, intercept, r_value, p_value, std_err = linregress(x_values,y_values)\n",
    "plt.plot(x_values, intercept + slope*x_values, 'r')\n",
    "line_eq = \"y = \" + str(round(slope,2)) + \"x + \" + str(round(intercept,2))\n",
    "plt.annotate(line_eq,(min(x_values)+0.5,min(y_values)),fontsize=14,color=\"red\")\n",
    "plt.plot()"
   ]
  },
  {
   "cell_type": "code",
   "execution_count": null,
   "metadata": {},
   "outputs": [],
   "source": [
    "print(f\"The r-squared is {r_value * r_value}\")"
   ]
  },
  {
   "cell_type": "code",
   "execution_count": null,
   "metadata": {},
   "outputs": [],
   "source": [
    "red_states = stategroups.loc[stategroups[\"Group\"] == \"Red\", \"State\"]\n",
    "red_states"
   ]
  },
  {
   "cell_type": "code",
   "execution_count": null,
   "metadata": {},
   "outputs": [],
   "source": [
    "blue_states = stategroups.loc[stategroups[\"Group\"] == \"Blue\", \"State\"]\n",
    "blue_states"
   ]
  },
  {
   "cell_type": "code",
   "execution_count": null,
   "metadata": {},
   "outputs": [],
   "source": [
    "swing_states = stategroups.loc[stategroups[\"Group\"] == \"Swing\", \"State\"]\n",
    "swing_states"
   ]
  },
  {
   "cell_type": "code",
   "execution_count": null,
   "metadata": {},
   "outputs": [],
   "source": [
    "red_bo = compare\n",
    "for state in blue_states:\n",
    "    red_bo = red_bo.loc[red_bo[\"State\"] != state]\n",
    "for state in swing_states:\n",
    "    red_bo = red_bo.loc[red_bo[\"State\"] != state]\n",
    "red_bo.shape"
   ]
  },
  {
   "cell_type": "code",
   "execution_count": null,
   "metadata": {},
   "outputs": [],
   "source": [
    "x_values = red_bo[\"PercentD\"]\n",
    "y_values = red_bo[\"pct\"]\n",
    "\n",
    "plt.scatter(red_bo[\"PercentD\"],red_bo[\"pct\"],s=3)\n",
    "plt.title(\"Background Check Increases vs. Democratic Votes for President,\\n 2008 & 2012 - Red States\")\n",
    "plt.ylabel(\"Background Check Increases (%)\")\n",
    "plt.xlabel(\"Democratic Votes for President (%)\")\n",
    "plt.grid()\n",
    "slope, intercept, r_value, p_value, std_err = linregress(x_values,y_values)\n",
    "plt.plot(x_values, intercept + slope*x_values, 'r')\n",
    "line_eq = \"y = \" + str(round(slope,2)) + \"x + \" + str(round(intercept,2))\n",
    "plt.annotate(line_eq,(min(x_values)+0.5,min(y_values)),fontsize=14,color=\"red\")\n",
    "plt.plot()"
   ]
  },
  {
   "cell_type": "code",
   "execution_count": null,
   "metadata": {},
   "outputs": [],
   "source": [
    "print(f\"The r-squared is {r_value * r_value}\")"
   ]
  },
  {
   "cell_type": "code",
   "execution_count": null,
   "metadata": {},
   "outputs": [],
   "source": [
    "blue_bo = compare\n",
    "for state in red_states:\n",
    "    blue_bo = blue_bo.loc[blue_bo[\"State\"] != state]\n",
    "for state in swing_states:\n",
    "    blue_bo = blue_bo.loc[blue_bo[\"State\"] != state]\n",
    "blue_bo.shape"
   ]
  },
  {
   "cell_type": "code",
   "execution_count": null,
   "metadata": {},
   "outputs": [],
   "source": [
    "x_values = blue_bo[\"PercentD\"]\n",
    "y_values = blue_bo[\"pct\"]\n",
    "\n",
    "plt.scatter(blue_bo[\"PercentD\"],blue_bo[\"pct\"],s=3)\n",
    "plt.title(\"Background Check Increases vs. Democratic Votes for President,\\n 2008 & 2012 - Blue States\")\n",
    "plt.ylabel(\"Background Check Increases (%)\")\n",
    "plt.xlabel(\"Democratic Votes for President (%)\")\n",
    "plt.grid()\n",
    "slope, intercept, r_value, p_value, std_err = linregress(x_values,y_values)\n",
    "plt.plot(x_values, intercept + slope*x_values, 'r')\n",
    "line_eq = \"y = \" + str(round(slope,2)) + \"x + \" + str(round(intercept,2))\n",
    "plt.annotate(line_eq,(min(x_values)+0.5,min(y_values)),fontsize=14,color=\"red\")\n",
    "plt.plot()"
   ]
  },
  {
   "cell_type": "code",
   "execution_count": null,
   "metadata": {},
   "outputs": [],
   "source": [
    "print(f\"The r-squared is {r_value * r_value}\")"
   ]
  },
  {
   "cell_type": "code",
   "execution_count": null,
   "metadata": {},
   "outputs": [],
   "source": [
    "swing_bo = compare\n",
    "for state in red_states:\n",
    "    swing_bo = swing_bo.loc[swing_bo[\"State\"] != state]\n",
    "for state in blue_states:\n",
    "    swing_bo = swing_bo.loc[swing_bo[\"State\"] != state]\n",
    "swing_bo.shape"
   ]
  },
  {
   "cell_type": "code",
   "execution_count": null,
   "metadata": {},
   "outputs": [],
   "source": [
    "x_values = swing_bo[\"PercentD\"]\n",
    "y_values = swing_bo[\"pct\"]\n",
    "\n",
    "plt.scatter(swing_bo[\"PercentD\"],swing_bo[\"pct\"],s=3)\n",
    "plt.title(\"Background Check Increases vs. Democratic Votes for President,\\n 2008 & 2012 - Swing States\")\n",
    "plt.ylabel(\"Background Check Increases (%)\")\n",
    "plt.xlabel(\"Democratic Votes for President (%)\")\n",
    "plt.grid()\n",
    "slope, intercept, r_value, p_value, std_err = linregress(x_values,y_values)\n",
    "plt.plot(x_values, intercept + slope*x_values, 'r')\n",
    "line_eq = \"y = \" + str(round(slope,2)) + \"x + \" + str(round(intercept,2))\n",
    "plt.annotate(line_eq,(min(x_values)+0.5,min(y_values)),fontsize=14,color=\"red\")\n",
    "plt.plot()"
   ]
  },
  {
   "cell_type": "code",
   "execution_count": null,
   "metadata": {},
   "outputs": [],
   "source": [
    "print(f\"The r-squared is {r_value * r_value}\")"
   ]
  },
  {
   "cell_type": "code",
   "execution_count": null,
   "metadata": {},
   "outputs": [],
   "source": []
  }
 ],
 "metadata": {
  "kernelspec": {
   "display_name": "Python 3",
   "language": "python",
   "name": "python3"
  },
  "language_info": {
   "codemirror_mode": {
    "name": "ipython",
    "version": 3
   },
   "file_extension": ".py",
   "mimetype": "text/x-python",
   "name": "python",
   "nbconvert_exporter": "python",
   "pygments_lexer": "ipython3",
   "version": "3.6.10"
  }
 },
 "nbformat": 4,
 "nbformat_minor": 4
}
