{
 "cells": [
  {
   "cell_type": "code",
   "execution_count": 1,
   "metadata": {},
   "outputs": [],
   "source": [
    "import pandas as pd\n",
    "import numpy as np\n",
    "import matplotlib.pyplot as plt\n",
    "from scipy.stats import linregress"
   ]
  },
  {
   "cell_type": "code",
   "execution_count": 2,
   "metadata": {},
   "outputs": [],
   "source": [
    "pres = pd.read_csv(\"p_all.csv\")\n",
    "bgc = pd.read_csv(\"b_all.csv\")\n",
    "stategroups = pd.read_csv(\"stategroups.csv\")"
   ]
  },
  {
   "cell_type": "code",
   "execution_count": 3,
   "metadata": {},
   "outputs": [
    {
     "data": {
      "text/html": [
       "<div>\n",
       "<style scoped>\n",
       "    .dataframe tbody tr th:only-of-type {\n",
       "        vertical-align: middle;\n",
       "    }\n",
       "\n",
       "    .dataframe tbody tr th {\n",
       "        vertical-align: top;\n",
       "    }\n",
       "\n",
       "    .dataframe thead th {\n",
       "        text-align: right;\n",
       "    }\n",
       "</style>\n",
       "<table border=\"1\" class=\"dataframe\">\n",
       "  <thead>\n",
       "    <tr style=\"text-align: right;\">\n",
       "      <th></th>\n",
       "      <th>State</th>\n",
       "      <th>Republican</th>\n",
       "      <th>Democratic</th>\n",
       "      <th>Others</th>\n",
       "      <th>Year</th>\n",
       "      <th>Election</th>\n",
       "      <th>PercentD</th>\n",
       "      <th>Dem Win</th>\n",
       "      <th>Change</th>\n",
       "    </tr>\n",
       "  </thead>\n",
       "  <tbody>\n",
       "    <tr>\n",
       "      <th>0</th>\n",
       "      <td>AL</td>\n",
       "      <td>941173</td>\n",
       "      <td>692611</td>\n",
       "      <td>32488</td>\n",
       "      <td>2000</td>\n",
       "      <td>Pres</td>\n",
       "      <td>41.566503</td>\n",
       "      <td>False</td>\n",
       "      <td>NaN</td>\n",
       "    </tr>\n",
       "    <tr>\n",
       "      <th>1</th>\n",
       "      <td>AK</td>\n",
       "      <td>167398</td>\n",
       "      <td>79004</td>\n",
       "      <td>39158</td>\n",
       "      <td>2000</td>\n",
       "      <td>Pres</td>\n",
       "      <td>27.666340</td>\n",
       "      <td>False</td>\n",
       "      <td>NaN</td>\n",
       "    </tr>\n",
       "    <tr>\n",
       "      <th>2</th>\n",
       "      <td>AZ</td>\n",
       "      <td>781652</td>\n",
       "      <td>685341</td>\n",
       "      <td>65023</td>\n",
       "      <td>2000</td>\n",
       "      <td>Pres</td>\n",
       "      <td>44.734585</td>\n",
       "      <td>False</td>\n",
       "      <td>NaN</td>\n",
       "    </tr>\n",
       "    <tr>\n",
       "      <th>3</th>\n",
       "      <td>AR</td>\n",
       "      <td>472940</td>\n",
       "      <td>422768</td>\n",
       "      <td>26073</td>\n",
       "      <td>2000</td>\n",
       "      <td>Pres</td>\n",
       "      <td>45.864256</td>\n",
       "      <td>False</td>\n",
       "      <td>NaN</td>\n",
       "    </tr>\n",
       "    <tr>\n",
       "      <th>4</th>\n",
       "      <td>CA</td>\n",
       "      <td>4567429</td>\n",
       "      <td>5861203</td>\n",
       "      <td>537224</td>\n",
       "      <td>2000</td>\n",
       "      <td>Pres</td>\n",
       "      <td>53.449571</td>\n",
       "      <td>True</td>\n",
       "      <td>NaN</td>\n",
       "    </tr>\n",
       "    <tr>\n",
       "      <th>...</th>\n",
       "      <td>...</td>\n",
       "      <td>...</td>\n",
       "      <td>...</td>\n",
       "      <td>...</td>\n",
       "      <td>...</td>\n",
       "      <td>...</td>\n",
       "      <td>...</td>\n",
       "      <td>...</td>\n",
       "      <td>...</td>\n",
       "    </tr>\n",
       "    <tr>\n",
       "      <th>255</th>\n",
       "      <td>WA</td>\n",
       "      <td>1221747</td>\n",
       "      <td>1742718</td>\n",
       "      <td>352554</td>\n",
       "      <td>2016</td>\n",
       "      <td>Pres</td>\n",
       "      <td>52.538680</td>\n",
       "      <td>True</td>\n",
       "      <td>-3.624718</td>\n",
       "    </tr>\n",
       "    <tr>\n",
       "      <th>256</th>\n",
       "      <td>WV</td>\n",
       "      <td>489371</td>\n",
       "      <td>188794</td>\n",
       "      <td>36258</td>\n",
       "      <td>2016</td>\n",
       "      <td>Pres</td>\n",
       "      <td>26.426081</td>\n",
       "      <td>False</td>\n",
       "      <td>-9.113223</td>\n",
       "    </tr>\n",
       "    <tr>\n",
       "      <th>257</th>\n",
       "      <td>WI</td>\n",
       "      <td>1405284</td>\n",
       "      <td>1382536</td>\n",
       "      <td>188330</td>\n",
       "      <td>2016</td>\n",
       "      <td>Pres</td>\n",
       "      <td>46.453841</td>\n",
       "      <td>False</td>\n",
       "      <td>-6.373920</td>\n",
       "    </tr>\n",
       "    <tr>\n",
       "      <th>258</th>\n",
       "      <td>WY</td>\n",
       "      <td>174419</td>\n",
       "      <td>55973</td>\n",
       "      <td>25457</td>\n",
       "      <td>2016</td>\n",
       "      <td>Pres</td>\n",
       "      <td>21.877357</td>\n",
       "      <td>False</td>\n",
       "      <td>-5.941530</td>\n",
       "    </tr>\n",
       "    <tr>\n",
       "      <th>259</th>\n",
       "      <td>Total</td>\n",
       "      <td>62984828</td>\n",
       "      <td>65853514</td>\n",
       "      <td>7830934</td>\n",
       "      <td>2016</td>\n",
       "      <td>Pres</td>\n",
       "      <td>48.184578</td>\n",
       "      <td>True</td>\n",
       "      <td>-2.879129</td>\n",
       "    </tr>\n",
       "  </tbody>\n",
       "</table>\n",
       "<p>260 rows × 9 columns</p>\n",
       "</div>"
      ],
      "text/plain": [
       "     State  Republican  Democratic   Others  Year Election   PercentD  \\\n",
       "0       AL      941173      692611    32488  2000     Pres  41.566503   \n",
       "1       AK      167398       79004    39158  2000     Pres  27.666340   \n",
       "2       AZ      781652      685341    65023  2000     Pres  44.734585   \n",
       "3       AR      472940      422768    26073  2000     Pres  45.864256   \n",
       "4       CA     4567429     5861203   537224  2000     Pres  53.449571   \n",
       "..     ...         ...         ...      ...   ...      ...        ...   \n",
       "255     WA     1221747     1742718   352554  2016     Pres  52.538680   \n",
       "256     WV      489371      188794    36258  2016     Pres  26.426081   \n",
       "257     WI     1405284     1382536   188330  2016     Pres  46.453841   \n",
       "258     WY      174419       55973    25457  2016     Pres  21.877357   \n",
       "259  Total    62984828    65853514  7830934  2016     Pres  48.184578   \n",
       "\n",
       "     Dem Win    Change  \n",
       "0      False       NaN  \n",
       "1      False       NaN  \n",
       "2      False       NaN  \n",
       "3      False       NaN  \n",
       "4       True       NaN  \n",
       "..       ...       ...  \n",
       "255     True -3.624718  \n",
       "256    False -9.113223  \n",
       "257    False -6.373920  \n",
       "258    False -5.941530  \n",
       "259     True -2.879129  \n",
       "\n",
       "[260 rows x 9 columns]"
      ]
     },
     "execution_count": 3,
     "metadata": {},
     "output_type": "execute_result"
    }
   ],
   "source": [
    "pres"
   ]
  },
  {
   "cell_type": "code",
   "execution_count": 4,
   "metadata": {},
   "outputs": [
    {
     "data": {
      "text/html": [
       "<div>\n",
       "<style scoped>\n",
       "    .dataframe tbody tr th:only-of-type {\n",
       "        vertical-align: middle;\n",
       "    }\n",
       "\n",
       "    .dataframe tbody tr th {\n",
       "        vertical-align: top;\n",
       "    }\n",
       "\n",
       "    .dataframe thead th {\n",
       "        text-align: right;\n",
       "    }\n",
       "</style>\n",
       "<table border=\"1\" class=\"dataframe\">\n",
       "  <thead>\n",
       "    <tr style=\"text-align: right;\">\n",
       "      <th></th>\n",
       "      <th>state</th>\n",
       "      <th>year</th>\n",
       "      <th>totals</th>\n",
       "      <th>pct</th>\n",
       "    </tr>\n",
       "  </thead>\n",
       "  <tbody>\n",
       "    <tr>\n",
       "      <th>0</th>\n",
       "      <td>AL</td>\n",
       "      <td>2000</td>\n",
       "      <td>221911</td>\n",
       "      <td>3.729423</td>\n",
       "    </tr>\n",
       "    <tr>\n",
       "      <th>1</th>\n",
       "      <td>AL</td>\n",
       "      <td>2001</td>\n",
       "      <td>230187</td>\n",
       "      <td>-3.987627</td>\n",
       "    </tr>\n",
       "    <tr>\n",
       "      <th>2</th>\n",
       "      <td>AL</td>\n",
       "      <td>2002</td>\n",
       "      <td>221008</td>\n",
       "      <td>2.023004</td>\n",
       "    </tr>\n",
       "    <tr>\n",
       "      <th>3</th>\n",
       "      <td>AL</td>\n",
       "      <td>2003</td>\n",
       "      <td>225479</td>\n",
       "      <td>2.003734</td>\n",
       "    </tr>\n",
       "    <tr>\n",
       "      <th>4</th>\n",
       "      <td>AL</td>\n",
       "      <td>2004</td>\n",
       "      <td>229997</td>\n",
       "      <td>2.554816</td>\n",
       "    </tr>\n",
       "    <tr>\n",
       "      <th>...</th>\n",
       "      <td>...</td>\n",
       "      <td>...</td>\n",
       "      <td>...</td>\n",
       "      <td>...</td>\n",
       "    </tr>\n",
       "    <tr>\n",
       "      <th>1035</th>\n",
       "      <td>Total</td>\n",
       "      <td>2015</td>\n",
       "      <td>23006970</td>\n",
       "      <td>0.103940</td>\n",
       "    </tr>\n",
       "    <tr>\n",
       "      <th>1036</th>\n",
       "      <td>Total</td>\n",
       "      <td>2016</td>\n",
       "      <td>27406424</td>\n",
       "      <td>0.191223</td>\n",
       "    </tr>\n",
       "    <tr>\n",
       "      <th>1037</th>\n",
       "      <td>Total</td>\n",
       "      <td>2017</td>\n",
       "      <td>24933924</td>\n",
       "      <td>-0.090216</td>\n",
       "    </tr>\n",
       "    <tr>\n",
       "      <th>1038</th>\n",
       "      <td>Total</td>\n",
       "      <td>2018</td>\n",
       "      <td>25736693</td>\n",
       "      <td>0.032196</td>\n",
       "    </tr>\n",
       "    <tr>\n",
       "      <th>1039</th>\n",
       "      <td>Total</td>\n",
       "      <td>2019</td>\n",
       "      <td>27974555</td>\n",
       "      <td>0.086952</td>\n",
       "    </tr>\n",
       "  </tbody>\n",
       "</table>\n",
       "<p>1040 rows × 4 columns</p>\n",
       "</div>"
      ],
      "text/plain": [
       "      state  year    totals       pct\n",
       "0        AL  2000    221911  3.729423\n",
       "1        AL  2001    230187 -3.987627\n",
       "2        AL  2002    221008  2.023004\n",
       "3        AL  2003    225479  2.003734\n",
       "4        AL  2004    229997  2.554816\n",
       "...     ...   ...       ...       ...\n",
       "1035  Total  2015  23006970  0.103940\n",
       "1036  Total  2016  27406424  0.191223\n",
       "1037  Total  2017  24933924 -0.090216\n",
       "1038  Total  2018  25736693  0.032196\n",
       "1039  Total  2019  27974555  0.086952\n",
       "\n",
       "[1040 rows x 4 columns]"
      ]
     },
     "execution_count": 4,
     "metadata": {},
     "output_type": "execute_result"
    }
   ],
   "source": [
    "bgc"
   ]
  },
  {
   "cell_type": "code",
   "execution_count": 5,
   "metadata": {},
   "outputs": [],
   "source": [
    "bgc08 = bgc.loc[bgc[\"year\"] == 2008]\n",
    "pres08 = pres.loc[pres[\"Year\"] == 2008]"
   ]
  },
  {
   "cell_type": "code",
   "execution_count": 6,
   "metadata": {},
   "outputs": [],
   "source": [
    "bgc12 = bgc.loc[bgc[\"year\"] == 2012]\n",
    "pres12 = pres.loc[pres[\"Year\"] == 2012]"
   ]
  },
  {
   "cell_type": "code",
   "execution_count": 7,
   "metadata": {},
   "outputs": [],
   "source": [
    "bgc_bo = bgc08.append(bgc12, ignore_index=True)\n",
    "bgc_bo = bgc_bo.loc[bgc_bo[\"state\"] != \"Total\"]\n",
    "pres_bo = pres08.append(pres12, ignore_index=True)\n",
    "pres_bo = pres_bo.loc[pres_bo[\"State\"] != \"Total\"]\n",
    "bgc_bo = bgc_bo.rename(columns={\"state\":\"State\",\"year\":\"Year\"})"
   ]
  },
  {
   "cell_type": "code",
   "execution_count": null,
   "metadata": {},
   "outputs": [],
   "source": []
  },
  {
   "cell_type": "code",
   "execution_count": 8,
   "metadata": {},
   "outputs": [
    {
     "data": {
      "text/html": [
       "<div>\n",
       "<style scoped>\n",
       "    .dataframe tbody tr th:only-of-type {\n",
       "        vertical-align: middle;\n",
       "    }\n",
       "\n",
       "    .dataframe tbody tr th {\n",
       "        vertical-align: top;\n",
       "    }\n",
       "\n",
       "    .dataframe thead th {\n",
       "        text-align: right;\n",
       "    }\n",
       "</style>\n",
       "<table border=\"1\" class=\"dataframe\">\n",
       "  <thead>\n",
       "    <tr style=\"text-align: right;\">\n",
       "      <th></th>\n",
       "      <th>State</th>\n",
       "      <th>Year</th>\n",
       "      <th>totals</th>\n",
       "      <th>pct</th>\n",
       "      <th>Republican</th>\n",
       "      <th>Democratic</th>\n",
       "      <th>Others</th>\n",
       "      <th>Election</th>\n",
       "      <th>PercentD</th>\n",
       "      <th>Dem Win</th>\n",
       "      <th>Change</th>\n",
       "    </tr>\n",
       "  </thead>\n",
       "  <tbody>\n",
       "    <tr>\n",
       "      <th>0</th>\n",
       "      <td>AL</td>\n",
       "      <td>2008</td>\n",
       "      <td>299432</td>\n",
       "      <td>6.156991</td>\n",
       "      <td>1266546</td>\n",
       "      <td>813479</td>\n",
       "      <td>19794</td>\n",
       "      <td>Pres</td>\n",
       "      <td>38.740434</td>\n",
       "      <td>False</td>\n",
       "      <td>1.896697</td>\n",
       "    </tr>\n",
       "    <tr>\n",
       "      <th>1</th>\n",
       "      <td>AK</td>\n",
       "      <td>2008</td>\n",
       "      <td>61729</td>\n",
       "      <td>-1.537365</td>\n",
       "      <td>193841</td>\n",
       "      <td>123594</td>\n",
       "      <td>8762</td>\n",
       "      <td>Pres</td>\n",
       "      <td>37.889374</td>\n",
       "      <td>False</td>\n",
       "      <td>2.372512</td>\n",
       "    </tr>\n",
       "    <tr>\n",
       "      <th>2</th>\n",
       "      <td>AZ</td>\n",
       "      <td>2008</td>\n",
       "      <td>208721</td>\n",
       "      <td>3.189904</td>\n",
       "      <td>1230111</td>\n",
       "      <td>1034707</td>\n",
       "      <td>28657</td>\n",
       "      <td>Pres</td>\n",
       "      <td>45.115251</td>\n",
       "      <td>False</td>\n",
       "      <td>0.718418</td>\n",
       "    </tr>\n",
       "    <tr>\n",
       "      <th>3</th>\n",
       "      <td>AR</td>\n",
       "      <td>2008</td>\n",
       "      <td>191799</td>\n",
       "      <td>9.407244</td>\n",
       "      <td>638017</td>\n",
       "      <td>422310</td>\n",
       "      <td>26290</td>\n",
       "      <td>Pres</td>\n",
       "      <td>38.864660</td>\n",
       "      <td>False</td>\n",
       "      <td>-5.682971</td>\n",
       "    </tr>\n",
       "    <tr>\n",
       "      <th>4</th>\n",
       "      <td>CA</td>\n",
       "      <td>2008</td>\n",
       "      <td>780398</td>\n",
       "      <td>0.995133</td>\n",
       "      <td>5011781</td>\n",
       "      <td>8274473</td>\n",
       "      <td>275646</td>\n",
       "      <td>Pres</td>\n",
       "      <td>61.012638</td>\n",
       "      <td>True</td>\n",
       "      <td>6.709262</td>\n",
       "    </tr>\n",
       "    <tr>\n",
       "      <th>...</th>\n",
       "      <td>...</td>\n",
       "      <td>...</td>\n",
       "      <td>...</td>\n",
       "      <td>...</td>\n",
       "      <td>...</td>\n",
       "      <td>...</td>\n",
       "      <td>...</td>\n",
       "      <td>...</td>\n",
       "      <td>...</td>\n",
       "      <td>...</td>\n",
       "      <td>...</td>\n",
       "    </tr>\n",
       "    <tr>\n",
       "      <th>97</th>\n",
       "      <td>VA</td>\n",
       "      <td>2012</td>\n",
       "      <td>448754</td>\n",
       "      <td>11.068871</td>\n",
       "      <td>1822522</td>\n",
       "      <td>1971820</td>\n",
       "      <td>60147</td>\n",
       "      <td>Pres</td>\n",
       "      <td>51.156457</td>\n",
       "      <td>True</td>\n",
       "      <td>-1.473013</td>\n",
       "    </tr>\n",
       "    <tr>\n",
       "      <th>98</th>\n",
       "      <td>WA</td>\n",
       "      <td>2012</td>\n",
       "      <td>519209</td>\n",
       "      <td>8.072472</td>\n",
       "      <td>1290670</td>\n",
       "      <td>1755396</td>\n",
       "      <td>79450</td>\n",
       "      <td>Pres</td>\n",
       "      <td>56.163398</td>\n",
       "      <td>True</td>\n",
       "      <td>-1.489494</td>\n",
       "    </tr>\n",
       "    <tr>\n",
       "      <th>99</th>\n",
       "      <td>WV</td>\n",
       "      <td>2012</td>\n",
       "      <td>225580</td>\n",
       "      <td>10.360848</td>\n",
       "      <td>417655</td>\n",
       "      <td>238269</td>\n",
       "      <td>14514</td>\n",
       "      <td>Pres</td>\n",
       "      <td>35.539304</td>\n",
       "      <td>False</td>\n",
       "      <td>-7.050446</td>\n",
       "    </tr>\n",
       "    <tr>\n",
       "      <th>100</th>\n",
       "      <td>WI</td>\n",
       "      <td>2012</td>\n",
       "      <td>469375</td>\n",
       "      <td>-7.390040</td>\n",
       "      <td>1407966</td>\n",
       "      <td>1620985</td>\n",
       "      <td>39483</td>\n",
       "      <td>Pres</td>\n",
       "      <td>52.827762</td>\n",
       "      <td>True</td>\n",
       "      <td>-3.390025</td>\n",
       "    </tr>\n",
       "    <tr>\n",
       "      <th>101</th>\n",
       "      <td>WY</td>\n",
       "      <td>2012</td>\n",
       "      <td>63356</td>\n",
       "      <td>11.545868</td>\n",
       "      <td>170962</td>\n",
       "      <td>69286</td>\n",
       "      <td>8813</td>\n",
       "      <td>Pres</td>\n",
       "      <td>27.818888</td>\n",
       "      <td>False</td>\n",
       "      <td>-4.722010</td>\n",
       "    </tr>\n",
       "  </tbody>\n",
       "</table>\n",
       "<p>102 rows × 11 columns</p>\n",
       "</div>"
      ],
      "text/plain": [
       "    State  Year  totals        pct  Republican  Democratic  Others Election  \\\n",
       "0      AL  2008  299432   6.156991     1266546      813479   19794     Pres   \n",
       "1      AK  2008   61729  -1.537365      193841      123594    8762     Pres   \n",
       "2      AZ  2008  208721   3.189904     1230111     1034707   28657     Pres   \n",
       "3      AR  2008  191799   9.407244      638017      422310   26290     Pres   \n",
       "4      CA  2008  780398   0.995133     5011781     8274473  275646     Pres   \n",
       "..    ...   ...     ...        ...         ...         ...     ...      ...   \n",
       "97     VA  2012  448754  11.068871     1822522     1971820   60147     Pres   \n",
       "98     WA  2012  519209   8.072472     1290670     1755396   79450     Pres   \n",
       "99     WV  2012  225580  10.360848      417655      238269   14514     Pres   \n",
       "100    WI  2012  469375  -7.390040     1407966     1620985   39483     Pres   \n",
       "101    WY  2012   63356  11.545868      170962       69286    8813     Pres   \n",
       "\n",
       "      PercentD  Dem Win    Change  \n",
       "0    38.740434    False  1.896697  \n",
       "1    37.889374    False  2.372512  \n",
       "2    45.115251    False  0.718418  \n",
       "3    38.864660    False -5.682971  \n",
       "4    61.012638     True  6.709262  \n",
       "..         ...      ...       ...  \n",
       "97   51.156457     True -1.473013  \n",
       "98   56.163398     True -1.489494  \n",
       "99   35.539304    False -7.050446  \n",
       "100  52.827762     True -3.390025  \n",
       "101  27.818888    False -4.722010  \n",
       "\n",
       "[102 rows x 11 columns]"
      ]
     },
     "execution_count": 8,
     "metadata": {},
     "output_type": "execute_result"
    }
   ],
   "source": [
    "compare = bgc_bo.merge(pres_bo,\"outer\")\n",
    "compare"
   ]
  },
  {
   "cell_type": "code",
   "execution_count": 9,
   "metadata": {},
   "outputs": [
    {
     "data": {
      "text/plain": [
       "[]"
      ]
     },
     "execution_count": 9,
     "metadata": {},
     "output_type": "execute_result"
    },
    {
     "data": {
      "image/png": "[encoded data removed]",
      "text/plain": [
       "<Figure size 432x288 with 1 Axes>"
      ]
     },
     "metadata": {
      "needs_background": "light"
     },
     "output_type": "display_data"
    }
   ],
   "source": [
    "x_values = compare[\"PercentD\"]\n",
    "y_values = compare[\"pct\"]\n",
    "\n",
    "plt.scatter(compare[\"PercentD\"],compare[\"pct\"],s=3)\n",
    "plt.title(\"Background Check Increases vs. Democratic Votes for President,\\n 2008 & 2012 - All States\")\n",
    "plt.ylabel(\"Background Check Increases (%)\")\n",
    "plt.xlabel(\"Democratic Votes for President (%)\")\n",
    "plt.grid()\n",
    "slope, intercept, r_value, p_value, std_err = linregress(x_values,y_values)\n",
    "plt.plot(x_values, intercept + slope*x_values, 'r')\n",
    "line_eq = \"y = \" + str(round(slope,2)) + \"x + \" + str(round(intercept,2))\n",
    "plt.annotate(line_eq,(min(x_values)+0.5,min(y_values)),fontsize=14,color=\"red\")\n",
    "plt.plot()"
   ]
  },
  {
   "cell_type": "code",
   "execution_count": 10,
   "metadata": {},
   "outputs": [
    {
     "name": "stdout",
     "output_type": "stream",
     "text": [
      "The r-squared is 0.02714423687208114\n"
     ]
    }
   ],
   "source": [
    "print(f\"The r-squared is {r_value * r_value}\")"
   ]
  },
  {
   "cell_type": "code",
   "execution_count": 11,
   "metadata": {},
   "outputs": [
    {
     "data": {
      "text/plain": [
       "0     AK\n",
       "1     AL\n",
       "2     AR\n",
       "3     AZ\n",
       "10    GA\n",
       "13    ID\n",
       "16    KS\n",
       "17    KY\n",
       "18    LA\n",
       "24    MO\n",
       "25    MS\n",
       "26    MT\n",
       "28    ND\n",
       "29    NE\n",
       "36    OK\n",
       "40    SC\n",
       "41    SD\n",
       "42    TN\n",
       "43    TX\n",
       "44    UT\n",
       "49    WV\n",
       "50    WY\n",
       "Name: State, dtype: object"
      ]
     },
     "execution_count": 11,
     "metadata": {},
     "output_type": "execute_result"
    }
   ],
   "source": [
    "red_states = stategroups.loc[stategroups[\"Group\"] == \"Red\", \"State\"]\n",
    "red_states"
   ]
  },
  {
   "cell_type": "code",
   "execution_count": 12,
   "metadata": {},
   "outputs": [
    {
     "data": {
      "text/plain": [
       "4     CA\n",
       "6     CT\n",
       "7     DC\n",
       "8     DE\n",
       "11    HI\n",
       "14    IL\n",
       "19    MA\n",
       "20    MD\n",
       "21    ME\n",
       "23    MN\n",
       "31    NJ\n",
       "34    NY\n",
       "37    OR\n",
       "39    RI\n",
       "46    VT\n",
       "47    WA\n",
       "Name: State, dtype: object"
      ]
     },
     "execution_count": 12,
     "metadata": {},
     "output_type": "execute_result"
    }
   ],
   "source": [
    "blue_states = stategroups.loc[stategroups[\"Group\"] == \"Blue\", \"State\"]\n",
    "blue_states"
   ]
  },
  {
   "cell_type": "code",
   "execution_count": 13,
   "metadata": {},
   "outputs": [
    {
     "data": {
      "text/plain": [
       "5     CO\n",
       "9     FL\n",
       "12    IA\n",
       "15    IN\n",
       "22    MI\n",
       "27    NC\n",
       "30    NH\n",
       "32    NM\n",
       "33    NV\n",
       "35    OH\n",
       "38    PA\n",
       "45    VA\n",
       "48    WI\n",
       "Name: State, dtype: object"
      ]
     },
     "execution_count": 13,
     "metadata": {},
     "output_type": "execute_result"
    }
   ],
   "source": [
    "swing_states = stategroups.loc[stategroups[\"Group\"] == \"Swing\", \"State\"]\n",
    "swing_states"
   ]
  },
  {
   "cell_type": "code",
   "execution_count": 14,
   "metadata": {},
   "outputs": [
    {
     "data": {
      "text/plain": [
       "(44, 11)"
      ]
     },
     "execution_count": 14,
     "metadata": {},
     "output_type": "execute_result"
    }
   ],
   "source": [
    "red_bo = compare\n",
    "for state in blue_states:\n",
    "    red_bo = red_bo.loc[red_bo[\"State\"] != state]\n",
    "for state in swing_states:\n",
    "    red_bo = red_bo.loc[red_bo[\"State\"] != state]\n",
    "red_bo.shape"
   ]
  },
  {
   "cell_type": "code",
   "execution_count": 15,
   "metadata": {},
   "outputs": [
    {
     "data": {
      "text/plain": [
       "[]"
      ]
     },
     "execution_count": 15,
     "metadata": {},
     "output_type": "execute_result"
    },
    {
     "data": {
      "image/png": "[encoded data removed]",
      "text/plain": [
       "<Figure size 432x288 with 1 Axes>"
      ]
     },
     "metadata": {
      "needs_background": "light"
     },
     "output_type": "display_data"
    }
   ],
   "source": [
    "x_values = red_bo[\"PercentD\"]\n",
    "y_values = red_bo[\"pct\"]\n",
    "\n",
    "plt.scatter(red_bo[\"PercentD\"],red_bo[\"pct\"],s=3)\n",
    "plt.title(\"Background Check Increases vs. Democratic Votes for President,\\n 2008 & 2012 - Red States\")\n",
    "plt.ylabel(\"Background Check Increases (%)\")\n",
    "plt.xlabel(\"Democratic Votes for President (%)\")\n",
    "plt.grid()\n",
    "slope, intercept, r_value, p_value, std_err = linregress(x_values,y_values)\n",
    "plt.plot(x_values, intercept + slope*x_values, 'r')\n",
    "line_eq = \"y = \" + str(round(slope,2)) + \"x + \" + str(round(intercept,2))\n",
    "plt.annotate(line_eq,(min(x_values)+0.5,min(y_values)),fontsize=14,color=\"red\")\n",
    "plt.plot()"
   ]
  },
  {
   "cell_type": "code",
   "execution_count": 16,
   "metadata": {},
   "outputs": [
    {
     "name": "stdout",
     "output_type": "stream",
     "text": [
      "The r-squared is 0.04266531027667442\n"
     ]
    }
   ],
   "source": [
    "print(f\"The r-squared is {r_value * r_value}\")"
   ]
  },
  {
   "cell_type": "code",
   "execution_count": 17,
   "metadata": {},
   "outputs": [
    {
     "data": {
      "text/plain": [
       "(32, 11)"
      ]
     },
     "execution_count": 17,
     "metadata": {},
     "output_type": "execute_result"
    }
   ],
   "source": [
    "blue_bo = compare\n",
    "for state in red_states:\n",
    "    blue_bo = blue_bo.loc[blue_bo[\"State\"] != state]\n",
    "for state in swing_states:\n",
    "    blue_bo = blue_bo.loc[blue_bo[\"State\"] != state]\n",
    "blue_bo.shape"
   ]
  },
  {
   "cell_type": "code",
   "execution_count": 18,
   "metadata": {},
   "outputs": [
    {
     "data": {
      "text/plain": [
       "[]"
      ]
     },
     "execution_count": 18,
     "metadata": {},
     "output_type": "execute_result"
    },
    {
     "data": {
      "image/png": "[encoded data removed]",
      "text/plain": [
       "<Figure size 432x288 with 1 Axes>"
      ]
     },
     "metadata": {
      "needs_background": "light"
     },
     "output_type": "display_data"
    }
   ],
   "source": [
    "x_values = blue_bo[\"PercentD\"]\n",
    "y_values = blue_bo[\"pct\"]\n",
    "\n",
    "plt.scatter(blue_bo[\"PercentD\"],blue_bo[\"pct\"],s=3)\n",
    "plt.title(\"Background Check Increases vs. Democratic Votes for President,\\n 2008 & 2012 - Blue States\")\n",
    "plt.ylabel(\"Background Check Increases (%)\")\n",
    "plt.xlabel(\"Democratic Votes for President (%)\")\n",
    "plt.grid()\n",
    "slope, intercept, r_value, p_value, std_err = linregress(x_values,y_values)\n",
    "plt.plot(x_values, intercept + slope*x_values, 'r')\n",
    "line_eq = \"y = \" + str(round(slope,2)) + \"x + \" + str(round(intercept,2))\n",
    "plt.annotate(line_eq,(min(x_values)+0.5,min(y_values)),fontsize=14,color=\"red\")\n",
    "plt.plot()"
   ]
  },
  {
   "cell_type": "code",
   "execution_count": 19,
   "metadata": {},
   "outputs": [
    {
     "name": "stdout",
     "output_type": "stream",
     "text": [
      "The r-squared is 0.016255799880246644\n"
     ]
    }
   ],
   "source": [
    "print(f\"The r-squared is {r_value * r_value}\")"
   ]
  },
  {
   "cell_type": "code",
   "execution_count": 20,
   "metadata": {},
   "outputs": [
    {
     "data": {
      "text/plain": [
       "(26, 11)"
      ]
     },
     "execution_count": 20,
     "metadata": {},
     "output_type": "execute_result"
    }
   ],
   "source": [
    "swing_bo = compare\n",
    "for state in red_states:\n",
    "    swing_bo = swing_bo.loc[swing_bo[\"State\"] != state]\n",
    "for state in blue_states:\n",
    "    swing_bo = swing_bo.loc[swing_bo[\"State\"] != state]\n",
    "swing_bo.shape"
   ]
  },
  {
   "cell_type": "code",
   "execution_count": 21,
   "metadata": {},
   "outputs": [
    {
     "data": {
      "text/plain": [
       "[]"
      ]
     },
     "execution_count": 21,
     "metadata": {},
     "output_type": "execute_result"
    },
    {
     "data": {
      "image/png": "[encoded data removed]",
      "text/plain": [
       "<Figure size 432x288 with 1 Axes>"
      ]
     },
     "metadata": {
      "needs_background": "light"
     },
     "output_type": "display_data"
    }
   ],
   "source": [
    "x_values = swing_bo[\"PercentD\"]\n",
    "y_values = swing_bo[\"pct\"]\n",
    "\n",
    "plt.scatter(swing_bo[\"PercentD\"],swing_bo[\"pct\"],s=3)\n",
    "plt.title(\"Background Check Increases vs. Democratic Votes for President,\\n 2008 & 2012 - Swing States\")\n",
    "plt.ylabel(\"Background Check Increases (%)\")\n",
    "plt.xlabel(\"Democratic Votes for President (%)\")\n",
    "plt.grid()\n",
    "slope, intercept, r_value, p_value, std_err = linregress(x_values,y_values)\n",
    "plt.plot(x_values, intercept + slope*x_values, 'r')\n",
    "line_eq = \"y = \" + str(round(slope,2)) + \"x + \" + str(round(intercept,2))\n",
    "plt.annotate(line_eq,(min(x_values)+0.5,min(y_values)),fontsize=14,color=\"red\")\n",
    "plt.plot()"
   ]
  },
  {
   "cell_type": "code",
   "execution_count": 22,
   "metadata": {},
   "outputs": [
    {
     "name": "stdout",
     "output_type": "stream",
     "text": [
      "The r-squared is 0.3214668795280368\n"
     ]
    }
   ],
   "source": [
    "print(f\"The r-squared is {r_value * r_value}\")"
   ]
  },
  {
   "cell_type": "code",
   "execution_count": null,
   "metadata": {},
   "outputs": [],
   "source": []
  }
 ],
 "metadata": {
  "kernelspec": {
   "display_name": "Python 3",
   "language": "python",
   "name": "python3"
  },
  "language_info": {
   "codemirror_mode": {
    "name": "ipython",
    "version": 3
   },
   "file_extension": ".py",
   "mimetype": "text/x-python",
   "name": "python",
   "nbconvert_exporter": "python",
   "pygments_lexer": "ipython3",
   "version": "3.6.10"
  }
 },
 "nbformat": 4,
 "nbformat_minor": 4
}
