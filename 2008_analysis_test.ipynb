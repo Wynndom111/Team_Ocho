{
 "cells": [
  {
   "cell_type": "code",
   "execution_count": null,
   "metadata": {},
   "outputs": [],
   "source": [
    "import pandas as pd\n",
    "import numpy as np\n",
    "import matplotlib.pyplot as plt"
   ]
  },
  {
   "cell_type": "code",
   "execution_count": null,
   "metadata": {},
   "outputs": [],
   "source": [
    "p2008 = pd.read_csv(\"p2008.csv\")\n",
    "h2008 = pd.read_csv(\"h2008.csv\")\n",
    "bgc2008 = pd.read_csv(\"bgc2008.csv\")"
   ]
  },
  {
   "cell_type": "code",
   "execution_count": null,
   "metadata": {},
   "outputs": [],
   "source": [
    "p2008"
   ]
  },
  {
   "cell_type": "code",
   "execution_count": null,
   "metadata": {},
   "outputs": [],
   "source": [
    "h2008"
   ]
  },
  {
   "cell_type": "code",
   "execution_count": null,
   "metadata": {},
   "outputs": [],
   "source": [
    "bgc2008"
   ]
  },
  {
   "cell_type": "code",
   "execution_count": null,
   "metadata": {},
   "outputs": [],
   "source": [
    "bgc2008 = bgc2008.dropna()"
   ]
  },
  {
   "cell_type": "code",
   "execution_count": null,
   "metadata": {},
   "outputs": [],
   "source": [
    "bgc2008.loc[bgc2008[\"state\"] == \"AL\", \"pct\"].sum()"
   ]
  },
  {
   "cell_type": "code",
   "execution_count": null,
   "metadata": {},
   "outputs": [],
   "source": [
    "states = []\n",
    "pdp08 = []\n",
    "hdp08 = []\n",
    "bch08 = []\n",
    "\n",
    "for state in p2008[\"State\"]:\n",
    "    if state != \"Total\":\n",
    "        if state != \"DC\":\n",
    "            pdp = p2008.loc[p2008[\"State\"] == state, \"PercentD\"].iloc[0]\n",
    "            hdp = h2008.loc[h2008[\"State\"] == state, \"PercentD\"].iloc[0]\n",
    "            bch = bgc2008.loc[bgc2008[\"state\"] == state, \"pct\"].sum()\n",
    "            states.append(state)\n",
    "            pdp08.append(pdp)\n",
    "            hdp08.append(hdp)\n",
    "            bch08.append(bch)\n",
    "\n",
    "year2008 = pd.DataFrame({\"State\":states,\"State Presidential Result (D)\":pdp08,\n",
    "                         \"House State Total Result (D)\":hdp08,\"2008-2009 Background Check % Increase\":bch08})\n",
    "    \n",
    "year2008"
   ]
  },
  {
   "cell_type": "code",
   "execution_count": null,
   "metadata": {},
   "outputs": [],
   "source": [
    "from scipy.stats import linregress\n",
    "x_values = year2008[\"State Presidential Result (D)\"]\n",
    "y_values = bch08\n",
    "\n",
    "plt.scatter(pdp08,bch08)\n",
    "plt.title(\"Background Check Increases vs. Democratic Votes for President, 2008\")\n",
    "plt.ylabel(\"Background Check Increases (%)\")\n",
    "plt.xlabel(\"Democratic Votes for President (%)\")\n",
    "plt.grid()\n",
    "slope, intercept, r_value, p_value, std_err = linregress(x_values,y_values)\n",
    "plt.plot(x_values, intercept + slope*x_values, 'r')\n",
    "line_eq = \"y = \" + str(round(slope,2)) + \"x + \" + str(round(intercept,2))\n",
    "plt.annotate(line_eq,(32,min(y_values)),fontsize=14,color=\"red\")"
   ]
  },
  {
   "cell_type": "code",
   "execution_count": null,
   "metadata": {},
   "outputs": [],
   "source": [
    "print(f\"The r-squared is {r_value * r_value}\")"
   ]
  },
  {
   "cell_type": "code",
   "execution_count": null,
   "metadata": {},
   "outputs": [],
   "source": []
  }
 ],
 "metadata": {
  "kernelspec": {
   "display_name": "Python 3",
   "language": "python",
   "name": "python3"
  },
  "language_info": {
   "codemirror_mode": {
    "name": "ipython",
    "version": 3
   },
   "file_extension": ".py",
   "mimetype": "text/x-python",
   "name": "python",
   "nbconvert_exporter": "python",
   "pygments_lexer": "ipython3",
   "version": "3.6.10"
  }
 },
 "nbformat": 4,
 "nbformat_minor": 4
}
