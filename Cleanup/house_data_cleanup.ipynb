{
 "cells": [
  {
   "cell_type": "code",
   "execution_count": null,
   "metadata": {},
   "outputs": [],
   "source": [
    "import pandas as pd\n",
    "import numpy as np\n",
    "import matplotlib.pyplot as plt"
   ]
  },
  {
   "cell_type": "code",
   "execution_count": null,
   "metadata": {},
   "outputs": [],
   "source": [
    "territories=[\"AS\",\"GU\",\"MP\",\"PR\",\"VI\"]"
   ]
  },
  {
   "cell_type": "markdown",
   "metadata": {},
   "source": [
    "# Cleanup data - 2000"
   ]
  },
  {
   "cell_type": "markdown",
   "metadata": {},
   "source": [
    "## Read in the CSV as a DataFrame"
   ]
  },
  {
   "cell_type": "code",
   "execution_count": null,
   "metadata": {},
   "outputs": [],
   "source": [
    "h2000 = pd.read_csv(\"Datasets/2000H.csv\")\n",
    "h2000.head()"
   ]
  },
  {
   "cell_type": "markdown",
   "metadata": {},
   "source": [
    "## Rename the columns since we don't care about the candidate's name"
   ]
  },
  {
   "cell_type": "code",
   "execution_count": null,
   "metadata": {},
   "outputs": [],
   "source": [
    "h2000 = h2000.rename(columns={\"STATE\":\"State\",\n",
    "                              \"Republican General\":\"Republican\",\n",
    "                              \"Democratic General\":\"Democratic\",\n",
    "                              \"Other General\":\"Others\"})\n",
    "h2000.head()"
   ]
  },
  {
   "cell_type": "markdown",
   "metadata": {},
   "source": [
    "## See if there are any N/A rows and to see how the Total designation looks."
   ]
  },
  {
   "cell_type": "code",
   "execution_count": null,
   "metadata": {},
   "outputs": [],
   "source": [
    "h2000.tail()"
   ]
  },
  {
   "cell_type": "markdown",
   "metadata": {},
   "source": [
    "## Drop any N/A rows and rename the \"State\" for the total to simply \"Total\" without any colons or spaces."
   ]
  },
  {
   "cell_type": "code",
   "execution_count": null,
   "metadata": {},
   "outputs": [],
   "source": [
    "h2000 = h2000.dropna(subset=['State'])\n",
    "h2000 = h2000.fillna(\"0\")\n",
    "h2000[-1:][\"State\"]\n",
    "h2000[\"State\"] = h2000[\"State\"].replace(h2000[-1:][\"State\"],\"Total\")\n",
    "h2000.tail()"
   ]
  },
  {
   "cell_type": "code",
   "execution_count": null,
   "metadata": {},
   "outputs": [],
   "source": [
    "for territory in territories:\n",
    "    h2000 = h2000.loc[h2000[\"State\"] != territory]\n",
    "len(h2000)"
   ]
  },
  {
   "cell_type": "markdown",
   "metadata": {},
   "source": [
    "## Replace the commas and change to integers."
   ]
  },
  {
   "cell_type": "code",
   "execution_count": null,
   "metadata": {},
   "outputs": [],
   "source": [
    "h2000['Republican'] = h2000['Republican'].str.replace(',', '').astype(int)\n",
    "h2000['Democratic'] = h2000['Democratic'].str.replace(',', '').astype(int)\n",
    "h2000['Others'] = h2000['Others'].str.replace(',', '').astype(int)\n",
    "h2000.head()"
   ]
  },
  {
   "cell_type": "markdown",
   "metadata": {},
   "source": [
    "## Add the Year and Election type"
   ]
  },
  {
   "cell_type": "code",
   "execution_count": null,
   "metadata": {},
   "outputs": [],
   "source": [
    "h2000[\"Year\"] = 2000\n",
    "h2000[\"Election\"] = \"House\"\n",
    "h2000.head()"
   ]
  },
  {
   "cell_type": "markdown",
   "metadata": {},
   "source": [
    "## Calculate the Percentage of the Democratic Vote"
   ]
  },
  {
   "cell_type": "code",
   "execution_count": null,
   "metadata": {},
   "outputs": [],
   "source": [
    "h2000[\"PercentD\"] = (h2000[\"Democratic\"] / (h2000[\"Republican\"] + h2000[\"Democratic\"] + h2000[\"Others\"])) * 100\n",
    "h2000.head()"
   ]
  },
  {
   "cell_type": "markdown",
   "metadata": {},
   "source": [
    "# Same for 2002"
   ]
  },
  {
   "cell_type": "code",
   "execution_count": null,
   "metadata": {},
   "outputs": [],
   "source": [
    "h2002 = pd.read_csv(\"Datasets/2002H.csv\")\n",
    "h2002.head()"
   ]
  },
  {
   "cell_type": "code",
   "execution_count": null,
   "metadata": {},
   "outputs": [],
   "source": [
    "h2002 = h2002.rename(columns={\"STATE\":\"State\",\n",
    "                              \"Republican General\":\"Republican\",\n",
    "                              \"Democratic General\":\"Democratic\",\n",
    "                              \"Other\":\"Others\"})\n",
    "h2002.head()"
   ]
  },
  {
   "cell_type": "code",
   "execution_count": null,
   "metadata": {},
   "outputs": [],
   "source": [
    "h2002.tail()"
   ]
  },
  {
   "cell_type": "code",
   "execution_count": null,
   "metadata": {},
   "outputs": [],
   "source": [
    "h2002 = h2002.dropna(subset=['State'])\n",
    "h2002 = h2002.fillna(\"0\")\n",
    "h2002[-1:][\"State\"]\n",
    "h2002[\"State\"] = h2002[\"State\"].replace(h2002[-1:][\"State\"],\"Total\")\n",
    "h2002.tail()"
   ]
  },
  {
   "cell_type": "code",
   "execution_count": null,
   "metadata": {},
   "outputs": [],
   "source": [
    "for territory in territories:\n",
    "    h2002 = h2002.loc[h2002[\"State\"] != territory]\n",
    "len(h2002)"
   ]
  },
  {
   "cell_type": "code",
   "execution_count": null,
   "metadata": {},
   "outputs": [],
   "source": [
    "h2002['Republican'] = h2002['Republican'].str.replace(',', '').astype(int)\n",
    "h2002['Democratic'] = h2002['Democratic'].str.replace(',', '').astype(int)\n",
    "h2002['Others'] = h2002['Others'].str.replace(',', '').astype(int)\n",
    "h2002.head()"
   ]
  },
  {
   "cell_type": "code",
   "execution_count": null,
   "metadata": {},
   "outputs": [],
   "source": [
    "h2002[\"Year\"] = 2002\n",
    "h2002[\"Election\"] = \"House\"\n",
    "h2002.head()"
   ]
  },
  {
   "cell_type": "code",
   "execution_count": null,
   "metadata": {},
   "outputs": [],
   "source": [
    "h2002[\"PercentD\"] = (h2002[\"Democratic\"] / (h2002[\"Republican\"] + h2002[\"Democratic\"] + h2002[\"Others\"])) * 100\n",
    "h2002.head()"
   ]
  },
  {
   "cell_type": "markdown",
   "metadata": {},
   "source": [
    "# Same for 2004"
   ]
  },
  {
   "cell_type": "code",
   "execution_count": null,
   "metadata": {
    "scrolled": true
   },
   "outputs": [],
   "source": [
    "h2004 = pd.read_csv(\"Datasets/2004H.csv\")\n",
    "h2004.head()"
   ]
  },
  {
   "cell_type": "code",
   "execution_count": null,
   "metadata": {},
   "outputs": [],
   "source": [
    "h2004 = h2004.rename(columns={\"STATE\":\"State\",\n",
    "                              \"GENERAL Republican\":\"Republican\",\n",
    "                              \"GENERAL Democratic\":\"Democratic\",\n",
    "                              \"GENERAL Other\":\"Others\"})\n",
    "h2004.head()"
   ]
  },
  {
   "cell_type": "code",
   "execution_count": null,
   "metadata": {},
   "outputs": [],
   "source": [
    "h2004.tail()"
   ]
  },
  {
   "cell_type": "code",
   "execution_count": null,
   "metadata": {},
   "outputs": [],
   "source": [
    "h2004 = h2004.dropna(subset=['State'])\n",
    "h2004 = h2004.fillna(\"0\")\n",
    "h2004[-1:][\"State\"]\n",
    "h2004[\"State\"] = h2004[\"State\"].replace(h2004[-1:][\"State\"],\"Total\")\n",
    "h2004.tail()"
   ]
  },
  {
   "cell_type": "code",
   "execution_count": null,
   "metadata": {},
   "outputs": [],
   "source": [
    "for territory in territories:\n",
    "    h2004 = h2004.loc[h2004[\"State\"] != territory]\n",
    "len(h2004)"
   ]
  },
  {
   "cell_type": "code",
   "execution_count": null,
   "metadata": {},
   "outputs": [],
   "source": [
    "h2004['Republican'] = h2004['Republican'].str.replace(',', '').astype(int)\n",
    "h2004['Democratic'] = h2004['Democratic'].str.replace(',', '').astype(int)\n",
    "h2004['Others'] = h2004['Others'].str.replace(',', '').astype(int)\n",
    "h2004.head()"
   ]
  },
  {
   "cell_type": "code",
   "execution_count": null,
   "metadata": {},
   "outputs": [],
   "source": [
    "h2004[\"Year\"] = 2004\n",
    "h2004[\"Election\"] = \"House\"\n",
    "h2004.head()"
   ]
  },
  {
   "cell_type": "code",
   "execution_count": null,
   "metadata": {},
   "outputs": [],
   "source": [
    "h2004[\"PercentD\"] = (h2004[\"Democratic\"] / (h2004[\"Republican\"] + h2004[\"Democratic\"] + h2004[\"Others\"])) * 100\n",
    "h2004.head()"
   ]
  },
  {
   "cell_type": "markdown",
   "metadata": {},
   "source": [
    "# Same for 2006"
   ]
  },
  {
   "cell_type": "code",
   "execution_count": null,
   "metadata": {},
   "outputs": [],
   "source": [
    "h2006 = pd.read_csv(\"Datasets/2006H.csv\")\n",
    "h2006.head()"
   ]
  },
  {
   "cell_type": "code",
   "execution_count": null,
   "metadata": {},
   "outputs": [],
   "source": [
    "h2006 = h2006.rename(columns={\"STATE\":\"State\",\n",
    "                              \"GENERAL Republican\":\"Republican\",\n",
    "                              \"GENERAL Democratic\":\"Democratic\",\n",
    "                              \"GENERAL Other\":\"Others\"})\n",
    "h2006.head()"
   ]
  },
  {
   "cell_type": "code",
   "execution_count": null,
   "metadata": {},
   "outputs": [],
   "source": [
    "h2006.tail()"
   ]
  },
  {
   "cell_type": "code",
   "execution_count": null,
   "metadata": {},
   "outputs": [],
   "source": [
    "h2006 = h2006.dropna(subset=['State'])\n",
    "h2006 = h2006.fillna(\"0\")\n",
    "h2006[-1:][\"State\"]\n",
    "h2006[\"State\"] = h2006[\"State\"].replace(h2006[-1:][\"State\"],\"Total\")\n",
    "h2006.tail()"
   ]
  },
  {
   "cell_type": "code",
   "execution_count": null,
   "metadata": {},
   "outputs": [],
   "source": [
    "for territory in territories:\n",
    "    h2006 = h2006.loc[h2006[\"State\"] != territory]\n",
    "len(h2006)"
   ]
  },
  {
   "cell_type": "code",
   "execution_count": null,
   "metadata": {},
   "outputs": [],
   "source": [
    "h2006['Republican'] = h2006['Republican'].str.replace(',', '').astype(int)\n",
    "h2006['Democratic'] = h2006['Democratic'].str.replace(',', '').astype(int)\n",
    "h2006['Others'] = h2006['Others'].str.replace(',', '').astype(int)\n",
    "h2006.head()"
   ]
  },
  {
   "cell_type": "code",
   "execution_count": null,
   "metadata": {},
   "outputs": [],
   "source": [
    "h2006[\"Year\"] = 2006\n",
    "h2006[\"Election\"] = \"House\"\n",
    "h2006.head()"
   ]
  },
  {
   "cell_type": "code",
   "execution_count": null,
   "metadata": {},
   "outputs": [],
   "source": [
    "h2006[\"PercentD\"] = (h2006[\"Democratic\"] / (h2006[\"Republican\"] + h2006[\"Democratic\"] + h2006[\"Others\"])) * 100\n",
    "h2006.head()"
   ]
  },
  {
   "cell_type": "markdown",
   "metadata": {},
   "source": [
    "# Same for 2008"
   ]
  },
  {
   "cell_type": "code",
   "execution_count": null,
   "metadata": {},
   "outputs": [],
   "source": [
    "h2008 = pd.read_csv(\"Datasets/2008H.csv\")\n",
    "h2008.head()"
   ]
  },
  {
   "cell_type": "code",
   "execution_count": null,
   "metadata": {},
   "outputs": [],
   "source": [
    "h2008 = h2008.rename(columns={\"STATE\":\"State\",\n",
    "                              \"Republican General\":\"Republican\",\n",
    "                              \"Democratic General\":\"Democratic\",\n",
    "                              \"Other\":\"Others\"})\n",
    "h2008.head()"
   ]
  },
  {
   "cell_type": "code",
   "execution_count": null,
   "metadata": {},
   "outputs": [],
   "source": [
    "h2008.tail()"
   ]
  },
  {
   "cell_type": "code",
   "execution_count": null,
   "metadata": {},
   "outputs": [],
   "source": [
    "h2008 = h2008.dropna(subset=['State'])\n",
    "h2008 = h2008.fillna(\"0\")\n",
    "h2008[-1:][\"State\"]\n",
    "h2008[\"State\"] = h2008[\"State\"].replace(h2008[-1:][\"State\"],\"Total\")\n",
    "h2008.tail()"
   ]
  },
  {
   "cell_type": "code",
   "execution_count": null,
   "metadata": {},
   "outputs": [],
   "source": [
    "for territory in territories:\n",
    "    h2008 = h2008.loc[h2008[\"State\"] != territory]\n",
    "len(h2008)"
   ]
  },
  {
   "cell_type": "code",
   "execution_count": null,
   "metadata": {},
   "outputs": [],
   "source": [
    "h2008['Republican'] = h2008['Republican'].astype(int)\n",
    "h2008['Democratic'] = h2008['Democratic'].astype(int)\n",
    "h2008['Others'] = h2008['Others'].astype(int)\n",
    "h2008.head()"
   ]
  },
  {
   "cell_type": "code",
   "execution_count": null,
   "metadata": {},
   "outputs": [],
   "source": [
    "h2008[\"Year\"] = 2008\n",
    "h2008[\"Election\"] = \"House\"\n",
    "h2008.head()"
   ]
  },
  {
   "cell_type": "code",
   "execution_count": null,
   "metadata": {},
   "outputs": [],
   "source": [
    "h2008[\"PercentD\"] = (h2008[\"Democratic\"] / (h2008[\"Republican\"] + h2008[\"Democratic\"] + h2008[\"Others\"])) * 100\n",
    "h2008.head()"
   ]
  },
  {
   "cell_type": "markdown",
   "metadata": {},
   "source": [
    "# Same for 2010"
   ]
  },
  {
   "cell_type": "code",
   "execution_count": null,
   "metadata": {},
   "outputs": [],
   "source": [
    "h2010 = pd.read_csv(\"Datasets/2010H.csv\")\n",
    "h2010.head()"
   ]
  },
  {
   "cell_type": "code",
   "execution_count": null,
   "metadata": {},
   "outputs": [],
   "source": [
    "h2010 = h2010.rename(columns={\"STATE\":\"State\",\n",
    "                              \"GENERAL ELECTION REPUBLICAN\":\"Republican\",\n",
    "                              \"GENERAL ELECTION DEMOCRATIC\":\"Democratic\",\n",
    "                              \"GENERAL ELECTION OTHER\":\"Others\"})\n",
    "h2010.head()"
   ]
  },
  {
   "cell_type": "code",
   "execution_count": null,
   "metadata": {},
   "outputs": [],
   "source": [
    "h2010.tail()"
   ]
  },
  {
   "cell_type": "code",
   "execution_count": null,
   "metadata": {},
   "outputs": [],
   "source": [
    "h2010 = h2010.dropna(subset=['State'])\n",
    "h2010 = h2010.fillna(\"0\")\n",
    "h2010[-1:][\"State\"]\n",
    "h2010[\"State\"] = h2010[\"State\"].replace(h2010[-1:][\"State\"],\"Total\")\n",
    "h2010.tail()"
   ]
  },
  {
   "cell_type": "code",
   "execution_count": null,
   "metadata": {},
   "outputs": [],
   "source": [
    "for territory in territories:\n",
    "    h2010 = h2010.loc[h2010[\"State\"] != territory]\n",
    "len(h2010)"
   ]
  },
  {
   "cell_type": "code",
   "execution_count": null,
   "metadata": {},
   "outputs": [],
   "source": [
    "h2010['Republican'] = h2010['Republican'].str.replace(',', '').astype(int)\n",
    "h2010['Democratic'] = h2010['Democratic'].str.replace(',', '').astype(int)\n",
    "h2010['Others'] = h2010['Others'].str.replace(',', '').astype(int)\n",
    "h2010.head()"
   ]
  },
  {
   "cell_type": "code",
   "execution_count": null,
   "metadata": {},
   "outputs": [],
   "source": [
    "h2010[\"Year\"] = 2010\n",
    "h2010[\"Election\"] = \"House\"\n",
    "h2010.head()"
   ]
  },
  {
   "cell_type": "code",
   "execution_count": null,
   "metadata": {},
   "outputs": [],
   "source": [
    "h2010[\"PercentD\"] = (h2010[\"Democratic\"] / (h2010[\"Republican\"] + h2010[\"Democratic\"] + h2010[\"Others\"])) * 100\n",
    "h2010.head()"
   ]
  },
  {
   "cell_type": "markdown",
   "metadata": {},
   "source": [
    "# Same for 2012"
   ]
  },
  {
   "cell_type": "code",
   "execution_count": null,
   "metadata": {},
   "outputs": [],
   "source": [
    "h2012 = pd.read_csv(\"Datasets/2012H.csv\")\n",
    "h2012.head()"
   ]
  },
  {
   "cell_type": "code",
   "execution_count": null,
   "metadata": {},
   "outputs": [],
   "source": [
    "h2012 = h2012.rename(columns={\"STATE\":\"State\",\n",
    "                              \"Republican General\":\"Republican\",\n",
    "                              \"Democratic General\":\"Democratic\",\n",
    "                              \"Other\":\"Others\"})\n",
    "h2012.head()"
   ]
  },
  {
   "cell_type": "code",
   "execution_count": null,
   "metadata": {},
   "outputs": [],
   "source": [
    "h2012.tail()"
   ]
  },
  {
   "cell_type": "code",
   "execution_count": null,
   "metadata": {},
   "outputs": [],
   "source": [
    "h2012 = h2012.dropna(subset=['State'])\n",
    "h2012 = h2012.fillna(\"0\")\n",
    "h2012[-1:][\"State\"]\n",
    "h2012[\"State\"] = h2012[\"State\"].replace(h2012[-1:][\"State\"],\"Total\")\n",
    "h2012.tail()"
   ]
  },
  {
   "cell_type": "code",
   "execution_count": null,
   "metadata": {},
   "outputs": [],
   "source": [
    "for territory in territories:\n",
    "    h2012 = h2012.loc[h2012[\"State\"] != territory]\n",
    "len(h2012)"
   ]
  },
  {
   "cell_type": "code",
   "execution_count": null,
   "metadata": {},
   "outputs": [],
   "source": [
    "h2012['Republican'] = h2012['Republican'].astype(int)\n",
    "h2012['Democratic'] = h2012['Democratic'].astype(int)\n",
    "h2012['Others'] = h2012['Others'].astype(int)\n",
    "h2012.head()"
   ]
  },
  {
   "cell_type": "code",
   "execution_count": null,
   "metadata": {},
   "outputs": [],
   "source": [
    "h2012[\"Year\"] = 2012\n",
    "h2012[\"Election\"] = \"House\"\n",
    "h2012.head()"
   ]
  },
  {
   "cell_type": "code",
   "execution_count": null,
   "metadata": {},
   "outputs": [],
   "source": [
    "h2012[\"PercentD\"] = (h2012[\"Democratic\"] / (h2012[\"Republican\"] + h2012[\"Democratic\"] + h2012[\"Others\"])) * 100\n",
    "h2012.head()"
   ]
  },
  {
   "cell_type": "markdown",
   "metadata": {},
   "source": [
    "# Same for 2014"
   ]
  },
  {
   "cell_type": "code",
   "execution_count": null,
   "metadata": {},
   "outputs": [],
   "source": [
    "h2014 = pd.read_csv(\"Datasets/2014H.csv\")\n",
    "h2014.head()"
   ]
  },
  {
   "cell_type": "code",
   "execution_count": null,
   "metadata": {},
   "outputs": [],
   "source": [
    "h2014 = h2014.rename(columns={\"STATE\":\"State\",\n",
    "                              \"Republican General\":\"Republican\",\n",
    "                              \"Democratic General\":\"Democratic\",\n",
    "                              \"Other\":\"Others\"})\n",
    "h2014.head()"
   ]
  },
  {
   "cell_type": "code",
   "execution_count": null,
   "metadata": {},
   "outputs": [],
   "source": [
    "h2014.tail()"
   ]
  },
  {
   "cell_type": "code",
   "execution_count": null,
   "metadata": {},
   "outputs": [],
   "source": [
    "h2014 = h2014.dropna(subset=['State'])\n",
    "h2014 = h2014.fillna(\"0\")\n",
    "h2014[-1:][\"State\"]\n",
    "h2014[\"State\"] = h2014[\"State\"].replace(h2014[-1:][\"State\"],\"Total\")\n",
    "h2014.tail()"
   ]
  },
  {
   "cell_type": "code",
   "execution_count": null,
   "metadata": {},
   "outputs": [],
   "source": [
    "for territory in territories:\n",
    "    h2014 = h2014.loc[h2014[\"State\"] != territory]\n",
    "len(h2014)"
   ]
  },
  {
   "cell_type": "code",
   "execution_count": null,
   "metadata": {},
   "outputs": [],
   "source": [
    "h2014['Republican'] = h2014['Republican'].str.replace(',', '').astype(int)\n",
    "h2014['Democratic'] = h2014['Democratic'].str.replace(',', '').astype(int)\n",
    "h2014['Others'] = h2014['Others'].str.replace(',', '').astype(int)\n",
    "h2014.head()"
   ]
  },
  {
   "cell_type": "code",
   "execution_count": null,
   "metadata": {},
   "outputs": [],
   "source": [
    "h2014[\"Year\"] = 2014\n",
    "h2014[\"Election\"] = \"House\"\n",
    "h2014.head()"
   ]
  },
  {
   "cell_type": "code",
   "execution_count": null,
   "metadata": {},
   "outputs": [],
   "source": [
    "h2014[\"PercentD\"] = (h2014[\"Democratic\"] / (h2014[\"Republican\"] + h2014[\"Democratic\"] + h2014[\"Others\"])) * 100\n",
    "h2014.head()"
   ]
  },
  {
   "cell_type": "markdown",
   "metadata": {},
   "source": [
    "# Same for 2016"
   ]
  },
  {
   "cell_type": "code",
   "execution_count": null,
   "metadata": {},
   "outputs": [],
   "source": [
    "h2016 = pd.read_csv(\"Datasets/2016H.csv\")\n",
    "h2016.head()"
   ]
  },
  {
   "cell_type": "code",
   "execution_count": null,
   "metadata": {},
   "outputs": [],
   "source": [
    "h2016 = h2016.rename(columns={\"STATE\":\"State\",\n",
    "                              \"Republican General\":\"Republican\",\n",
    "                              \"Democratic General\":\"Democratic\",\n",
    "                              \"Other\":\"Others\"})\n",
    "h2016.head()"
   ]
  },
  {
   "cell_type": "code",
   "execution_count": null,
   "metadata": {},
   "outputs": [],
   "source": [
    "h2016.tail()"
   ]
  },
  {
   "cell_type": "code",
   "execution_count": null,
   "metadata": {},
   "outputs": [],
   "source": [
    "h2016 = h2016.dropna(subset=['State'])\n",
    "h2016 = h2016.fillna(\"0\")\n",
    "h2016[-1:][\"State\"]\n",
    "h2016[\"State\"] = h2016[\"State\"].replace(h2016[-1:][\"State\"],\"Total\")\n",
    "h2016.tail()"
   ]
  },
  {
   "cell_type": "code",
   "execution_count": null,
   "metadata": {},
   "outputs": [],
   "source": [
    "for territory in territories:\n",
    "    h2016 = h2016.loc[h2016[\"State\"] != territory]\n",
    "len(h2016)"
   ]
  },
  {
   "cell_type": "code",
   "execution_count": null,
   "metadata": {},
   "outputs": [],
   "source": [
    "h2016['Republican'] = h2016['Republican'].str.replace(',', '').astype(int)\n",
    "h2016['Democratic'] = h2016['Democratic'].str.replace(',', '').astype(int)\n",
    "h2016['Others'] = h2016['Others'].str.replace(',', '').astype(int)\n",
    "h2016.head()"
   ]
  },
  {
   "cell_type": "code",
   "execution_count": null,
   "metadata": {},
   "outputs": [],
   "source": [
    "h2016[\"Year\"] = 2016\n",
    "h2016[\"Election\"] = \"House\"\n",
    "h2016.head()"
   ]
  },
  {
   "cell_type": "code",
   "execution_count": null,
   "metadata": {},
   "outputs": [],
   "source": [
    "h2016[\"PercentD\"] = (h2016[\"Democratic\"] / (h2016[\"Republican\"] + h2016[\"Democratic\"] + h2016[\"Others\"])) * 100\n",
    "h2016.head()"
   ]
  },
  {
   "cell_type": "markdown",
   "metadata": {},
   "source": [
    "# Same for 2018"
   ]
  },
  {
   "cell_type": "code",
   "execution_count": null,
   "metadata": {},
   "outputs": [],
   "source": [
    "h2018 = pd.read_csv(\"Datasets/2018H.csv\")\n",
    "h2018.head()"
   ]
  },
  {
   "cell_type": "code",
   "execution_count": null,
   "metadata": {},
   "outputs": [],
   "source": [
    "h2018 = h2018.rename(columns={\"STATE\":\"State\",\n",
    "                              \"Republican General\":\"Republican\",\n",
    "                              \"Democratic General\":\"Democratic\",\n",
    "                              \"Other\":\"Others\"})\n",
    "h2018.head()"
   ]
  },
  {
   "cell_type": "code",
   "execution_count": null,
   "metadata": {},
   "outputs": [],
   "source": [
    "h2018.tail()"
   ]
  },
  {
   "cell_type": "code",
   "execution_count": null,
   "metadata": {},
   "outputs": [],
   "source": [
    "h2018 = h2018.dropna(subset=['State'])\n",
    "h2018 = h2018.fillna(\"0\")\n",
    "h2018[-1:][\"State\"]\n",
    "h2018[\"State\"] = h2018[\"State\"].replace(h2018[-1:][\"State\"],\"Total\")\n",
    "h2018.tail()"
   ]
  },
  {
   "cell_type": "code",
   "execution_count": null,
   "metadata": {},
   "outputs": [],
   "source": [
    "for territory in territories:\n",
    "    h2018 = h2018.loc[h2018[\"State\"] != territory]\n",
    "len(h2018)"
   ]
  },
  {
   "cell_type": "code",
   "execution_count": null,
   "metadata": {},
   "outputs": [],
   "source": [
    "h2018['Republican'] = h2018['Republican'].str.replace(',', '').astype(int)\n",
    "h2018['Democratic'] = h2018['Democratic'].str.replace(',', '').astype(int)\n",
    "h2018['Others'] = h2018['Others'].str.replace(',', '').astype(int)\n",
    "h2018.head()"
   ]
  },
  {
   "cell_type": "code",
   "execution_count": null,
   "metadata": {},
   "outputs": [],
   "source": [
    "h2018[\"Year\"] = 2018\n",
    "h2018[\"Election\"] = \"House\"\n",
    "h2018.head()"
   ]
  },
  {
   "cell_type": "code",
   "execution_count": null,
   "metadata": {},
   "outputs": [],
   "source": [
    "h2018[\"PercentD\"] = (h2018[\"Democratic\"] / (h2018[\"Republican\"] + h2018[\"Democratic\"] + h2018[\"Others\"])) * 100\n",
    "h2018.head()"
   ]
  },
  {
   "cell_type": "markdown",
   "metadata": {},
   "source": [
    "# Inserting changes in Democratic vote to the previous election"
   ]
  },
  {
   "cell_type": "code",
   "execution_count": null,
   "metadata": {},
   "outputs": [],
   "source": [
    "change = []\n",
    "for state in h2002[\"State\"]:\n",
    "    chg = (h2002.loc[h2002[\"State\"] == state, \"PercentD\"].iloc[0] - h2000.loc[h2000[\"State\"] == state, \"PercentD\"].iloc[0])\n",
    "    change.append(chg)\n",
    "h2002[\"Change\"] = change\n",
    "h2002.head()"
   ]
  },
  {
   "cell_type": "code",
   "execution_count": null,
   "metadata": {},
   "outputs": [],
   "source": [
    "change = []\n",
    "for state in h2004[\"State\"]:\n",
    "    chg = (h2004.loc[h2004[\"State\"] == state, \"PercentD\"].iloc[0] - h2002.loc[h2002[\"State\"] == state, \"PercentD\"].iloc[0])\n",
    "    change.append(chg)\n",
    "h2004[\"Change\"] = change\n",
    "h2004.head()"
   ]
  },
  {
   "cell_type": "code",
   "execution_count": null,
   "metadata": {},
   "outputs": [],
   "source": [
    "change = []\n",
    "for state in h2006[\"State\"]:\n",
    "    chg = (h2006.loc[h2006[\"State\"] == state, \"PercentD\"].iloc[0] - h2004.loc[h2004[\"State\"] == state, \"PercentD\"].iloc[0])\n",
    "    change.append(chg)\n",
    "h2006[\"Change\"] = change\n",
    "h2006.head()"
   ]
  },
  {
   "cell_type": "code",
   "execution_count": null,
   "metadata": {},
   "outputs": [],
   "source": [
    "change = []\n",
    "for state in h2008[\"State\"]:\n",
    "    chg = (h2008.loc[h2008[\"State\"] == state, \"PercentD\"].iloc[0] - h2006.loc[h2006[\"State\"] == state, \"PercentD\"].iloc[0])\n",
    "    change.append(chg)\n",
    "h2008[\"Change\"] = change\n",
    "h2008.head()"
   ]
  },
  {
   "cell_type": "code",
   "execution_count": null,
   "metadata": {},
   "outputs": [],
   "source": [
    "change = []\n",
    "for state in h2010[\"State\"]:\n",
    "    chg = (h2010.loc[h2010[\"State\"] == state, \"PercentD\"].iloc[0] - h2008.loc[h2008[\"State\"] == state, \"PercentD\"].iloc[0])\n",
    "    change.append(chg)\n",
    "h2010[\"Change\"] = change\n",
    "h2010.head()"
   ]
  },
  {
   "cell_type": "code",
   "execution_count": null,
   "metadata": {},
   "outputs": [],
   "source": [
    "change = []\n",
    "for state in h2012[\"State\"]:\n",
    "    chg = (h2012.loc[h2012[\"State\"] == state, \"PercentD\"].iloc[0] - h2010.loc[h2010[\"State\"] == state, \"PercentD\"].iloc[0])\n",
    "    change.append(chg)\n",
    "h2012[\"Change\"] = change\n",
    "h2012.head()"
   ]
  },
  {
   "cell_type": "code",
   "execution_count": null,
   "metadata": {},
   "outputs": [],
   "source": [
    "change = []\n",
    "for state in h2014[\"State\"]:\n",
    "    chg = (h2014.loc[h2014[\"State\"] == state, \"PercentD\"].iloc[0] - h2012.loc[h2012[\"State\"] == state, \"PercentD\"].iloc[0])\n",
    "    change.append(chg)\n",
    "h2014[\"Change\"] = change\n",
    "h2014.head()"
   ]
  },
  {
   "cell_type": "code",
   "execution_count": null,
   "metadata": {},
   "outputs": [],
   "source": [
    "change = []\n",
    "for state in h2016[\"State\"]:\n",
    "    chg = (h2016.loc[h2016[\"State\"] == state, \"PercentD\"].iloc[0] - h2014.loc[h2014[\"State\"] == state, \"PercentD\"].iloc[0])\n",
    "    change.append(chg)\n",
    "h2016[\"Change\"] = change\n",
    "h2016.head()"
   ]
  },
  {
   "cell_type": "code",
   "execution_count": null,
   "metadata": {},
   "outputs": [],
   "source": [
    "change = []\n",
    "for state in h2018[\"State\"]:\n",
    "    chg = (h2018.loc[h2018[\"State\"] == state, \"PercentD\"].iloc[0] - h2016.loc[h2016[\"State\"] == state, \"PercentD\"].iloc[0])\n",
    "    change.append(chg)\n",
    "h2018[\"Change\"] = change\n",
    "h2018.head()"
   ]
  },
  {
   "cell_type": "code",
   "execution_count": null,
   "metadata": {
    "scrolled": true
   },
   "outputs": [],
   "source": [
    "h_all = h2000.append(h2002, ignore_index=True)\n",
    "h_all = h_all.append(h2004, ignore_index=True)\n",
    "h_all = h_all.append(h2006, ignore_index=True)\n",
    "h_all = h_all.append(h2008, ignore_index=True)\n",
    "h_all = h_all.append(h2010, ignore_index=True)\n",
    "h_all = h_all.append(h2012, ignore_index=True)\n",
    "h_all = h_all.append(h2014, ignore_index=True)\n",
    "h_all = h_all.append(h2016, ignore_index=True)\n",
    "h_all = h_all.append(h2018, ignore_index=True)\n",
    "h_all"
   ]
  },
  {
   "cell_type": "code",
   "execution_count": null,
   "metadata": {},
   "outputs": [],
   "source": [
    "h_all.to_csv('h_all.csv',index=False)"
   ]
  },
  {
   "cell_type": "code",
   "execution_count": null,
   "metadata": {},
   "outputs": [],
   "source": []
  }
 ],
 "metadata": {
  "kernelspec": {
   "display_name": "Python 3",
   "language": "python",
   "name": "python3"
  },
  "language_info": {
   "codemirror_mode": {
    "name": "ipython",
    "version": 3
   },
   "file_extension": ".py",
   "mimetype": "text/x-python",
   "name": "python",
   "nbconvert_exporter": "python",
   "pygments_lexer": "ipython3",
   "version": "3.6.10"
  }
 },
 "nbformat": 4,
 "nbformat_minor": 4
}
