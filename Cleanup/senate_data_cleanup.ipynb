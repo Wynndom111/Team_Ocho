{
 "cells": [
  {
   "cell_type": "code",
   "execution_count": null,
   "metadata": {},
   "outputs": [],
   "source": [
    "#import libraries\n",
    "import pandas as pd\n",
    "import numpy as np\n",
    "import matplotlib.pyplot as plt"
   ]
  },
  {
   "cell_type": "code",
   "execution_count": null,
   "metadata": {},
   "outputs": [],
   "source": [
    "# reat in the csv as df\n",
    "\n",
    "s2000 = pd.read_csv(\"Datasets/2000S.csv\")\n",
    "s2002 = pd.read_csv(\"Datasets/2002S.csv\")\n",
    "s2004 = pd.read_csv(\"Datasets/2004S.csv\")\n",
    "s2006 = pd.read_csv(\"Datasets/2006S.csv\")\n",
    "s2008 = pd.read_csv(\"Datasets/2008S.csv\")\n",
    "s2010 = pd.read_csv(\"Datasets/2010S.csv\")\n",
    "s2012 = pd.read_csv(\"Datasets/2012S.csv\")\n",
    "s2014 = pd.read_csv(\"Datasets/2014S.csv\")\n",
    "s2016 = pd.read_csv(\"Datasets/2016S.csv\")\n",
    "s2018 = pd.read_csv(\"Datasets/2018S.csv\")\n",
    "s2000.head()"
   ]
  },
  {
   "cell_type": "markdown",
   "metadata": {},
   "source": [
    "# Clean up 2000 DF"
   ]
  },
  {
   "cell_type": "code",
   "execution_count": null,
   "metadata": {},
   "outputs": [],
   "source": [
    "# clean up 2000 election results\n",
    "\n",
    "#rename columns\n",
    "s2000 = s2000.rename(columns={\"STATE\":\"State\",\n",
    "                              \"Republican General \":\"Republican\",\n",
    "                              \"Democratic General\":\"Democratic\",\n",
    "                              \"Other General \":\"Others\"})\n",
    "#drop na for states not in election and replace cells with no votes still in election with 0\n",
    "s2000 = s2000.dropna(thresh=3)\n",
    "s2000 = s2000.fillna('0')"
   ]
  },
  {
   "cell_type": "code",
   "execution_count": null,
   "metadata": {},
   "outputs": [],
   "source": [
    "# reformat 'total' to drop ':'\n",
    "s2000[\"State\"] = s2000[\"State\"].replace(s2000[-1:][\"State\"],\"Total\")"
   ]
  },
  {
   "cell_type": "code",
   "execution_count": null,
   "metadata": {},
   "outputs": [],
   "source": [
    "#replace commas and convert votes to integers\n",
    "s2000['Republican'] = s2000['Republican'].str.replace(',', '').astype(int)\n",
    "s2000['Democratic'] = s2000['Democratic'].str.replace(',', '').astype(int)\n",
    "s2000['Others'] = s2000['Others'].str.replace(',', '').astype(int)"
   ]
  },
  {
   "cell_type": "code",
   "execution_count": null,
   "metadata": {},
   "outputs": [],
   "source": [
    "#add year column and election type\n",
    "s2000[\"Year\"] = 2000\n",
    "s2000[\"Election\"] = \"Senate\""
   ]
  },
  {
   "cell_type": "code",
   "execution_count": null,
   "metadata": {},
   "outputs": [],
   "source": [
    "#calculate percentage of Democratic votes and add column\n",
    "s2000[\"PercentD\"] = (s2000[\"Democratic\"] / (s2000[\"Republican\"] + s2000[\"Democratic\"] + s2000[\"Others\"])) * 100\n",
    "s2000"
   ]
  },
  {
   "cell_type": "markdown",
   "metadata": {},
   "source": [
    "# Repeat for 2002"
   ]
  },
  {
   "cell_type": "code",
   "execution_count": null,
   "metadata": {},
   "outputs": [],
   "source": [
    "# clean up 2002 election results\n",
    "\n",
    "#rename columns\n",
    "s2002 = s2002.rename(columns={\"STATE\":\"State\",\n",
    "                              \"Republican General \":\"Republican\",\n",
    "                              \"Democratic General\":\"Democratic\",\n",
    "                              \"Other\":\"Others\"})\n",
    "#drop na for states not in election and replace cells with no votes still in election with 0\n",
    "s2002 = s2002.dropna(thresh=3)\n",
    "s2002 = s2002.fillna('0')"
   ]
  },
  {
   "cell_type": "code",
   "execution_count": null,
   "metadata": {},
   "outputs": [],
   "source": [
    "# reformat 'total' to drop ':'\n",
    "s2002[\"State\"] = s2002[\"State\"].replace(s2002[-1:][\"State\"],\"Total\")"
   ]
  },
  {
   "cell_type": "code",
   "execution_count": null,
   "metadata": {},
   "outputs": [],
   "source": [
    "#add year column and election type\n",
    "s2002[\"Year\"] = 2002\n",
    "s2002[\"Election\"] = \"Senate\""
   ]
  },
  {
   "cell_type": "code",
   "execution_count": null,
   "metadata": {},
   "outputs": [],
   "source": [
    "#replace commas and convert votes to integers\n",
    "s2002['Republican'] = s2002['Republican'].str.replace(',', '').astype(int)\n",
    "s2002['Democratic'] = s2002['Democratic'].str.replace(',', '').astype(int)\n",
    "s2002['Others'] = s2002['Others'].str.replace(',', '').astype(int)\n",
    "s2002.head()"
   ]
  },
  {
   "cell_type": "code",
   "execution_count": null,
   "metadata": {},
   "outputs": [],
   "source": [
    "#calculate percentage of Democratic votes and add column\n",
    "s2002[\"PercentD\"] = (s2002[\"Democratic\"] / (s2002[\"Republican\"] + s2002[\"Democratic\"] + s2002[\"Others\"])) * 100\n",
    "s2002"
   ]
  },
  {
   "cell_type": "markdown",
   "metadata": {},
   "source": [
    "# Repeat for 2004"
   ]
  },
  {
   "cell_type": "code",
   "execution_count": null,
   "metadata": {},
   "outputs": [],
   "source": [
    "s2004.head()"
   ]
  },
  {
   "cell_type": "code",
   "execution_count": null,
   "metadata": {},
   "outputs": [],
   "source": [
    "# clean up 2004 election results\n",
    "\n",
    "#rename columns\n",
    "s2004 = s2004.rename(columns={\"STATE\":\"State\",\n",
    "                              \"GENERAL Republican\":\"Republican\",\n",
    "                              \"GENERAL Democratic\":\"Democratic\",\n",
    "                              \"GENERAL Other\":\"Others\"})\n",
    "#drop na for states not in election and replace cells with no votes still in election with 0\n",
    "s2004 = s2004.dropna(thresh=3)\n",
    "s2004 = s2004.fillna('0')\n",
    "s2004.head()"
   ]
  },
  {
   "cell_type": "code",
   "execution_count": null,
   "metadata": {},
   "outputs": [],
   "source": [
    "# convert columns to strings\n",
    "s2004['Republican'] = s2004['Republican'].astype(str)\n",
    "s2004['Democratic'] = s2004['Democratic'].astype(str)\n",
    "s2004['Others'] = s2004['Others'].astype(str)"
   ]
  },
  {
   "cell_type": "code",
   "execution_count": null,
   "metadata": {},
   "outputs": [],
   "source": [
    "#replace commas and convert votes to integers\n",
    "s2004['Republican'] = s2004['Republican'].str.replace(',', '').astype(int)\n",
    "s2004['Democratic'] = s2004['Democratic'].str.replace(',', '').astype(int)\n",
    "s2004['Others'] = s2004['Others'].str.replace(',', '').astype(int)"
   ]
  },
  {
   "cell_type": "code",
   "execution_count": null,
   "metadata": {},
   "outputs": [],
   "source": [
    "# reformat 'total' to drop ':'\n",
    "s2004[\"State\"] = s2004[\"State\"].replace(s2004[-1:][\"State\"],\"Total\")"
   ]
  },
  {
   "cell_type": "code",
   "execution_count": null,
   "metadata": {},
   "outputs": [],
   "source": [
    "#add year column and election type\n",
    "s2004[\"Year\"] = 2004\n",
    "s2004[\"Election\"] = \"Senate\""
   ]
  },
  {
   "cell_type": "code",
   "execution_count": null,
   "metadata": {},
   "outputs": [],
   "source": [
    "#calculate percentage of Democratic votes and add column\n",
    "s2004[\"PercentD\"] = (s2004[\"Democratic\"] / (s2004[\"Republican\"] + s2004[\"Democratic\"] + s2004[\"Others\"])) * 100\n",
    "s2004"
   ]
  },
  {
   "cell_type": "markdown",
   "metadata": {},
   "source": [
    "# Repeat for 2006"
   ]
  },
  {
   "cell_type": "code",
   "execution_count": null,
   "metadata": {},
   "outputs": [],
   "source": [
    "s2006.head()"
   ]
  },
  {
   "cell_type": "code",
   "execution_count": null,
   "metadata": {},
   "outputs": [],
   "source": [
    "# clean up 2006 election results\n",
    "\n",
    "#rename columns\n",
    "s2006 = s2006.rename(columns={\"STATE\":\"State\",\n",
    "                              \"GENERAL Republican\":\"Republican\",\n",
    "                              \"GENERAL Democratic\":\"Democratic\",\n",
    "                              \"GENERAL Other\":\"Others\"})\n",
    "#drop na for states not in election and replace cells with no votes still in election with 0\n",
    "s2006 = s2006.dropna(thresh=3)\n",
    "s2006 = s2006.fillna('0')"
   ]
  },
  {
   "cell_type": "code",
   "execution_count": null,
   "metadata": {},
   "outputs": [],
   "source": [
    "# reformat 'total' to drop ':'\n",
    "s2006[\"State\"] = s2006[\"State\"].replace(s2006[-1:][\"State\"],\"Total\")"
   ]
  },
  {
   "cell_type": "code",
   "execution_count": null,
   "metadata": {},
   "outputs": [],
   "source": [
    "#add year column and election type\n",
    "s2006[\"Year\"] = 2006\n",
    "s2006[\"Election\"] = \"Senate\""
   ]
  },
  {
   "cell_type": "code",
   "execution_count": null,
   "metadata": {},
   "outputs": [],
   "source": [
    "# convert columns to strings\n",
    "s2006['Republican'] = s2006['Republican'].astype(str)\n",
    "s2006['Democratic'] = s2006['Democratic'].astype(str)\n",
    "s2006['Others'] = s2006['Others'].astype(str)"
   ]
  },
  {
   "cell_type": "code",
   "execution_count": null,
   "metadata": {},
   "outputs": [],
   "source": [
    "#replace commas and convert votes to integers\n",
    "s2006['Republican'] = s2006['Republican'].str.replace(',', '').astype(int)\n",
    "s2006['Democratic'] = s2006['Democratic'].str.replace(',', '').astype(int)\n",
    "s2006['Others'] = s2006['Others'].str.replace(',', '').astype(int)"
   ]
  },
  {
   "cell_type": "code",
   "execution_count": null,
   "metadata": {},
   "outputs": [],
   "source": [
    "#calculate percentage of Democratic votes and add column\n",
    "s2006[\"PercentD\"] = (s2006[\"Democratic\"] / (s2006[\"Republican\"] + s2006[\"Democratic\"] + s2006[\"Others\"])) * 100\n",
    "s2006"
   ]
  },
  {
   "cell_type": "markdown",
   "metadata": {},
   "source": [
    "# Repeat for 2008"
   ]
  },
  {
   "cell_type": "code",
   "execution_count": null,
   "metadata": {},
   "outputs": [],
   "source": [
    "# clean up 2008 election results\n",
    "#rename columns\n",
    "s2008 = s2008.rename(columns={\"Other\":\"Others\"})\n",
    "#drop na for states not in election and replace cells with no votes still in election with 0\n",
    "s2008 = s2008.dropna(thresh=3)\n",
    "s2008 = s2008.fillna(0)\n",
    "s2008.head()"
   ]
  },
  {
   "cell_type": "code",
   "execution_count": null,
   "metadata": {},
   "outputs": [],
   "source": [
    "# reformat 'total' to drop ':'\n",
    "s2008[\"State\"] = s2008[\"State\"].replace(s2008[-1:][\"State\"],\"Total\")"
   ]
  },
  {
   "cell_type": "code",
   "execution_count": null,
   "metadata": {},
   "outputs": [],
   "source": [
    "#add year column and election type\n",
    "s2008[\"Year\"] = 2008\n",
    "s2008[\"Election\"] = \"Senate\""
   ]
  },
  {
   "cell_type": "code",
   "execution_count": null,
   "metadata": {},
   "outputs": [],
   "source": [
    "#calculate percentage of Democratic votes and add column\n",
    "#2008 data already float\n",
    "s2008[\"PercentD\"] = (s2008[\"Democratic\"] / (s2008[\"Republican\"] + s2008[\"Democratic\"] + s2008[\"Others\"])) * 100\n",
    "s2008"
   ]
  },
  {
   "cell_type": "markdown",
   "metadata": {},
   "source": [
    "# Repeat for 2010"
   ]
  },
  {
   "cell_type": "code",
   "execution_count": null,
   "metadata": {},
   "outputs": [],
   "source": [
    "s2010.dtypes"
   ]
  },
  {
   "cell_type": "code",
   "execution_count": null,
   "metadata": {},
   "outputs": [],
   "source": [
    "# clean up 2010 election results\n",
    "\n",
    "#rename columns\n",
    "s2010 = s2010.rename(columns={\"STATE\":\"State\",\n",
    "                              \"GENERAL ELECTION REPUBLICAN\":\"Republican\",\n",
    "                              \"GENERAL ELECTION DEMOCRATIC\":\"Democratic\",\n",
    "                              \"GENERAL ELECTION OTHER\":\"Others\"})\n",
    "#drop na for states not in election and replace cells with no votes still in election with 0\n",
    "s2010 = s2010.dropna(thresh=3)\n",
    "s2010 = s2010.fillna('0')\n",
    "s2010.head()"
   ]
  },
  {
   "cell_type": "code",
   "execution_count": null,
   "metadata": {},
   "outputs": [],
   "source": [
    "# reformat 'total' from 0 to 'Total'\n",
    "s2010[\"State\"] = s2010[\"State\"].replace(s2010[-1:][\"State\"],\"Total\")\n",
    "s2010.tail()"
   ]
  },
  {
   "cell_type": "code",
   "execution_count": null,
   "metadata": {},
   "outputs": [],
   "source": [
    "#add year column and election type\n",
    "s2010[\"Year\"] = 2010\n",
    "s2010[\"Election\"] = \"Senate\""
   ]
  },
  {
   "cell_type": "code",
   "execution_count": null,
   "metadata": {},
   "outputs": [],
   "source": [
    "#replace commas and convert votes to integers\n",
    "s2010['Republican'] = s2010['Republican'].str.replace(',', '').astype(int)\n",
    "s2010['Democratic'] = s2010['Democratic'].str.replace(',', '').astype(int)\n",
    "s2010['Others'] = s2010['Others'].str.replace(',', '').astype(int)"
   ]
  },
  {
   "cell_type": "code",
   "execution_count": null,
   "metadata": {},
   "outputs": [],
   "source": [
    "#calculate percentage of Democratic votes and add column\n",
    "s2010[\"PercentD\"] = (s2010[\"Democratic\"] / (s2010[\"Republican\"] + s2010[\"Democratic\"] + s2010[\"Others\"])) * 100\n",
    "s2010"
   ]
  },
  {
   "cell_type": "markdown",
   "metadata": {},
   "source": [
    "# Repeat for 2012"
   ]
  },
  {
   "cell_type": "code",
   "execution_count": null,
   "metadata": {},
   "outputs": [],
   "source": [
    "s2012.dtypes"
   ]
  },
  {
   "cell_type": "code",
   "execution_count": null,
   "metadata": {},
   "outputs": [],
   "source": [
    "# clean up 2004 election results\n",
    "\n",
    "#rename columns\n",
    "s2012 = s2012.rename(columns={\"Other\":\"Others\"})\n",
    "#drop na for states not in election and replace cells with no votes still in election with 0\n",
    "s2012 = s2012.dropna(thresh=3)\n",
    "s2012 = s2012.fillna(0)\n",
    "s2012.head()"
   ]
  },
  {
   "cell_type": "code",
   "execution_count": null,
   "metadata": {},
   "outputs": [],
   "source": [
    "# reformat 'total' to drop ':'\n",
    "s2012[\"State\"] = s2012[\"State\"].replace(s2012[-1:][\"State\"],\"Total\")\n",
    "s2012.tail()"
   ]
  },
  {
   "cell_type": "code",
   "execution_count": null,
   "metadata": {},
   "outputs": [],
   "source": [
    "#add year column and election type\n",
    "s2012[\"Year\"] = 2012\n",
    "s2012[\"Election\"] = \"Senate\""
   ]
  },
  {
   "cell_type": "code",
   "execution_count": null,
   "metadata": {},
   "outputs": [],
   "source": [
    "#replace commas and convert votes to integers\n",
    "s2012['Republican'] = s2012['Republican'].astype(int)\n",
    "s2012['Democratic'] = s2012['Democratic'].astype(int)\n",
    "s2012['Others'] = s2012['Others'].astype(int)"
   ]
  },
  {
   "cell_type": "code",
   "execution_count": null,
   "metadata": {},
   "outputs": [],
   "source": [
    "#calculate percentage of Democratic votes and add column\n",
    "# 2012 already float\n",
    "s2012[\"PercentD\"] = (s2012[\"Democratic\"] / (s2012[\"Republican\"] + s2012[\"Democratic\"] + s2012[\"Others\"])) * 100\n",
    "s2012.head()"
   ]
  },
  {
   "cell_type": "markdown",
   "metadata": {},
   "source": [
    "# Repeat for 2014"
   ]
  },
  {
   "cell_type": "code",
   "execution_count": null,
   "metadata": {},
   "outputs": [],
   "source": [
    "s2014.head()"
   ]
  },
  {
   "cell_type": "code",
   "execution_count": null,
   "metadata": {},
   "outputs": [],
   "source": [
    "# clean up 2014 election results\n",
    "\n",
    "#rename columns\n",
    "s2014 = s2014.rename(columns={\"Other\":\"Others\"})\n",
    "#drop na for states not in election and replace cells with no votes still in election with 0\n",
    "s2014 = s2014.dropna(thresh=3)\n",
    "s2014 = s2014.fillna('0')\n",
    "s2014.head()"
   ]
  },
  {
   "cell_type": "code",
   "execution_count": null,
   "metadata": {},
   "outputs": [],
   "source": [
    "# reformat 'total' to drop ':'\n",
    "s2014[\"State\"] = s2014[\"State\"].replace(s2014[-1:][\"State\"],\"Total\")\n",
    "s2014.tail()"
   ]
  },
  {
   "cell_type": "code",
   "execution_count": null,
   "metadata": {},
   "outputs": [],
   "source": [
    "#add year column and election type\n",
    "s2014[\"Year\"] = 2014\n",
    "s2014[\"Election\"] = \"Senate\""
   ]
  },
  {
   "cell_type": "code",
   "execution_count": null,
   "metadata": {},
   "outputs": [],
   "source": [
    "#replace commas and convert votes to integers\n",
    "s2014['Republican'] = s2014['Republican'].str.replace(',', '').astype(int)\n",
    "s2014['Democratic'] = s2014['Democratic'].str.replace(',', '').astype(int)\n",
    "s2014['Others'] = s2014['Others'].str.replace(',', '').astype(int)"
   ]
  },
  {
   "cell_type": "code",
   "execution_count": null,
   "metadata": {},
   "outputs": [],
   "source": [
    "#calculate percentage of Democratic votes and add column\n",
    "s2014[\"PercentD\"] = (s2014[\"Democratic\"] / (s2014[\"Republican\"] + s2014[\"Democratic\"] + s2014[\"Others\"])) * 100\n",
    "s2014"
   ]
  },
  {
   "cell_type": "markdown",
   "metadata": {},
   "source": [
    "# Repeat for 2016"
   ]
  },
  {
   "cell_type": "code",
   "execution_count": null,
   "metadata": {},
   "outputs": [],
   "source": [
    "s2016.head()"
   ]
  },
  {
   "cell_type": "code",
   "execution_count": null,
   "metadata": {},
   "outputs": [],
   "source": [
    "# clean up election results\n",
    "\n",
    "#rename columns\n",
    "s2016 = s2016.rename(columns={\"Other\":\"Others\"})\n",
    "#drop na for states not in election and replace cells with no votes still in election with 0\n",
    "s2016 = s2016.dropna(thresh=3)\n",
    "s2016 = s2016.fillna('0')\n",
    "s2016.head()"
   ]
  },
  {
   "cell_type": "code",
   "execution_count": null,
   "metadata": {},
   "outputs": [],
   "source": [
    "# reformat 'total' to drop ':'\n",
    "s2016[\"State\"] = s2016[\"State\"].replace(s2016[-1:][\"State\"],\"Total\")\n",
    "s2016.tail()"
   ]
  },
  {
   "cell_type": "code",
   "execution_count": null,
   "metadata": {},
   "outputs": [],
   "source": [
    "#add year column and election type\n",
    "s2016[\"Year\"] = 2016\n",
    "s2016[\"Election\"] = \"Senate\""
   ]
  },
  {
   "cell_type": "code",
   "execution_count": null,
   "metadata": {},
   "outputs": [],
   "source": [
    "#replace commas and convert votes to integers\n",
    "s2016['Republican'] = s2016['Republican'].str.replace(',', '').astype(int)\n",
    "s2016['Democratic'] = s2016['Democratic'].str.replace(',', '').astype(int)\n",
    "s2016['Others'] = s2016['Others'].str.replace(',', '').astype(int)"
   ]
  },
  {
   "cell_type": "code",
   "execution_count": null,
   "metadata": {},
   "outputs": [],
   "source": [
    "#calculate percentage of Democratic votes and add column\n",
    "s2016[\"PercentD\"] = (s2016[\"Democratic\"] / (s2016[\"Republican\"] + s2016[\"Democratic\"] + s2016[\"Others\"])) * 100\n",
    "s2016"
   ]
  },
  {
   "cell_type": "markdown",
   "metadata": {},
   "source": [
    "# Repeat for 2018"
   ]
  },
  {
   "cell_type": "code",
   "execution_count": null,
   "metadata": {},
   "outputs": [],
   "source": [
    "s2018.head()"
   ]
  },
  {
   "cell_type": "code",
   "execution_count": null,
   "metadata": {},
   "outputs": [],
   "source": [
    "# clean up election results\n",
    "\n",
    "#rename columns\n",
    "s2018 = s2018.rename(columns={\"Other\":\"Others\"})\n",
    "#drop na for states not in election and replace cells with no votes still in election with 0\n",
    "s2018 = s2018.dropna(thresh=3)\n",
    "s2018 = s2018.fillna('0')\n",
    "s2018.head()"
   ]
  },
  {
   "cell_type": "code",
   "execution_count": null,
   "metadata": {},
   "outputs": [],
   "source": [
    "# reformat 'total' to drop ':'\n",
    "s2018[\"State\"] = s2018[\"State\"].replace(s2018[-1:][\"State\"],\"Total\")\n",
    "s2018.tail()"
   ]
  },
  {
   "cell_type": "code",
   "execution_count": null,
   "metadata": {},
   "outputs": [],
   "source": [
    "#add year column and election type\n",
    "s2018[\"Year\"] = 2018\n",
    "s2018[\"Election\"] = \"Senate\""
   ]
  },
  {
   "cell_type": "code",
   "execution_count": null,
   "metadata": {},
   "outputs": [],
   "source": [
    "#replace commas and convert votes to integers\n",
    "s2018['Republican'] = s2018['Republican'].str.replace(',', '').astype(int)\n",
    "s2018['Democratic'] = s2018['Democratic'].str.replace(',', '').astype(int)\n",
    "s2018['Others'] = s2018['Others'].str.replace(',', '').astype(int)"
   ]
  },
  {
   "cell_type": "code",
   "execution_count": null,
   "metadata": {},
   "outputs": [],
   "source": [
    "#calculate percentage of Democratic votes and add column\n",
    "s2018[\"PercentD\"] = (s2018[\"Democratic\"] / (s2018[\"Republican\"] + s2018[\"Democratic\"] + s2018[\"Others\"])) * 100\n",
    "s2018.head()"
   ]
  },
  {
   "cell_type": "markdown",
   "metadata": {},
   "source": [
    "# Append DFs to make compiled DF"
   ]
  },
  {
   "cell_type": "code",
   "execution_count": null,
   "metadata": {},
   "outputs": [],
   "source": [
    "s_all = s2000.append(s2002, ignore_index=True)\n",
    "s_all = s_all.append(s2004, ignore_index=True)\n",
    "s_all = s_all.append(s2006, ignore_index=True)\n",
    "s_all = s_all.append(s2008, ignore_index=True)\n",
    "s_all = s_all.append(s2010, ignore_index=True)\n",
    "s_all = s_all.append(s2012, ignore_index=True)\n",
    "s_all = s_all.append(s2014, ignore_index=True)\n",
    "s_all = s_all.append(s2016, ignore_index=True)\n",
    "s_all = s_all.append(s2018, ignore_index=True)\n",
    "s_all"
   ]
  },
  {
   "cell_type": "code",
   "execution_count": null,
   "metadata": {},
   "outputs": [],
   "source": [
    "s_all.to_csv('s_all.csv')"
   ]
  },
  {
   "cell_type": "code",
   "execution_count": null,
   "metadata": {},
   "outputs": [],
   "source": []
  }
 ],
 "metadata": {
  "kernelspec": {
   "display_name": "Python 3",
   "language": "python",
   "name": "python3"
  },
  "language_info": {
   "codemirror_mode": {
    "name": "ipython",
    "version": 3
   },
   "file_extension": ".py",
   "mimetype": "text/x-python",
   "name": "python",
   "nbconvert_exporter": "python",
   "pygments_lexer": "ipython3",
   "version": "3.6.10"
  }
 },
 "nbformat": 4,
 "nbformat_minor": 4
}
