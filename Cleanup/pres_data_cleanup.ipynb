{
 "cells": [
  {
   "cell_type": "code",
   "execution_count": null,
   "metadata": {},
   "outputs": [],
   "source": [
    "import pandas as pd\n",
    "import numpy as np\n",
    "import matplotlib.pyplot as plt"
   ]
  },
  {
   "cell_type": "markdown",
   "metadata": {},
   "source": [
    "# Cleanup data - 2000"
   ]
  },
  {
   "cell_type": "markdown",
   "metadata": {},
   "source": [
    "## Read in the CSV as a DataFrame"
   ]
  },
  {
   "cell_type": "code",
   "execution_count": null,
   "metadata": {},
   "outputs": [],
   "source": [
    "p2000 = pd.read_csv(\"Datasets/2000P.csv\")\n",
    "p2000.head()"
   ]
  },
  {
   "cell_type": "markdown",
   "metadata": {},
   "source": [
    "## Rename the columns since we don't care about the candidate's name"
   ]
  },
  {
   "cell_type": "code",
   "execution_count": null,
   "metadata": {},
   "outputs": [],
   "source": [
    "p2000 = p2000.rename(columns={\"STATE\":\"State\",\n",
    "                              \"Popular Vote - Bush (R)\":\"Republican\",\n",
    "                              \"Popular Vote - Gore (D)\":\"Democratic\",\n",
    "                              \"Popular Vote - All Others\":\"Others\"})\n",
    "p2000.head()"
   ]
  },
  {
   "cell_type": "markdown",
   "metadata": {},
   "source": [
    "## See if there are any N/A rows and to see how the Total designation looks."
   ]
  },
  {
   "cell_type": "code",
   "execution_count": null,
   "metadata": {},
   "outputs": [],
   "source": [
    "p2000.tail()"
   ]
  },
  {
   "cell_type": "markdown",
   "metadata": {},
   "source": [
    "## Drop any N/A rows and rename the \"State\" for the total to simply \"Total\" without any colons or spaces."
   ]
  },
  {
   "cell_type": "code",
   "execution_count": null,
   "metadata": {},
   "outputs": [],
   "source": [
    "p2000 = p2000.dropna()\n",
    "p2000[-1:][\"State\"]\n",
    "p2000[\"State\"] = p2000[\"State\"].replace(p2000[-1:][\"State\"],\"Total\")\n",
    "p2000.tail()"
   ]
  },
  {
   "cell_type": "markdown",
   "metadata": {},
   "source": [
    "## Replace the commas and change to integers."
   ]
  },
  {
   "cell_type": "code",
   "execution_count": null,
   "metadata": {},
   "outputs": [],
   "source": [
    "p2000['Republican'] = p2000['Republican'].str.replace(',', '').astype(int)\n",
    "p2000['Democratic'] = p2000['Democratic'].str.replace(',', '').astype(int)\n",
    "p2000['Others'] = p2000['Others'].str.replace(',', '').astype(int)\n",
    "p2000.head()"
   ]
  },
  {
   "cell_type": "markdown",
   "metadata": {},
   "source": [
    "## Add the Year and Election type"
   ]
  },
  {
   "cell_type": "code",
   "execution_count": null,
   "metadata": {},
   "outputs": [],
   "source": [
    "p2000[\"Year\"] = 2000\n",
    "p2000[\"Election\"] = \"Pres\"\n",
    "p2000.head()"
   ]
  },
  {
   "cell_type": "markdown",
   "metadata": {},
   "source": [
    "## Calculate the Percentage of the Democratic Vote"
   ]
  },
  {
   "cell_type": "code",
   "execution_count": null,
   "metadata": {},
   "outputs": [],
   "source": [
    "p2000[\"PercentD\"] = (p2000[\"Democratic\"] / (p2000[\"Republican\"] + p2000[\"Democratic\"] + p2000[\"Others\"])) * 100\n",
    "p2000.head()"
   ]
  },
  {
   "cell_type": "code",
   "execution_count": null,
   "metadata": {},
   "outputs": [],
   "source": [
    "p2000[\"Dem Win\"] = p2000[\"Democratic\"] > p2000[\"Republican\"]\n",
    "p2000.head()"
   ]
  },
  {
   "cell_type": "markdown",
   "metadata": {},
   "source": [
    "# Same for 2004"
   ]
  },
  {
   "cell_type": "code",
   "execution_count": null,
   "metadata": {
    "scrolled": true
   },
   "outputs": [],
   "source": [
    "p2004 = pd.read_csv(\"Datasets/2004P.csv\")\n",
    "p2004.head()"
   ]
  },
  {
   "cell_type": "code",
   "execution_count": null,
   "metadata": {},
   "outputs": [],
   "source": [
    "p2004 = p2004.rename(columns={\"STATE\":\"State\",\n",
    "                              \"Popular Vote Bush (R)\":\"Republican\",\n",
    "                              \"Popular Vote Kerry (D)\":\"Democratic\",\n",
    "                              \"Popular Vote All Others\":\"Others\"})\n",
    "p2004.head()"
   ]
  },
  {
   "cell_type": "code",
   "execution_count": null,
   "metadata": {},
   "outputs": [],
   "source": [
    "p2004.tail()"
   ]
  },
  {
   "cell_type": "code",
   "execution_count": null,
   "metadata": {},
   "outputs": [],
   "source": [
    "p2004 = p2004.dropna()\n",
    "p2004[-1:][\"State\"]\n",
    "p2004[\"State\"] = p2004[\"State\"].replace(p2004[-1:][\"State\"],\"Total\")\n",
    "p2004.tail()"
   ]
  },
  {
   "cell_type": "code",
   "execution_count": null,
   "metadata": {},
   "outputs": [],
   "source": [
    "p2004['Republican'] = p2004['Republican'].str.replace(',', '').astype(int)\n",
    "p2004['Democratic'] = p2004['Democratic'].str.replace(',', '').astype(int)\n",
    "p2004['Others'] = p2004['Others'].str.replace(',', '').astype(int)\n",
    "p2004.head()"
   ]
  },
  {
   "cell_type": "code",
   "execution_count": null,
   "metadata": {},
   "outputs": [],
   "source": [
    "p2004[\"Year\"] = 2004\n",
    "p2004[\"Election\"] = \"Pres\"\n",
    "p2004.head()"
   ]
  },
  {
   "cell_type": "code",
   "execution_count": null,
   "metadata": {},
   "outputs": [],
   "source": [
    "p2004[\"PercentD\"] = (p2004[\"Democratic\"] / (p2004[\"Republican\"] + p2004[\"Democratic\"] + p2004[\"Others\"])) * 100\n",
    "p2004.head()"
   ]
  },
  {
   "cell_type": "code",
   "execution_count": null,
   "metadata": {},
   "outputs": [],
   "source": [
    "p2004[\"Dem Win\"] = p2004[\"Democratic\"] > p2004[\"Republican\"]\n",
    "p2004.head()"
   ]
  },
  {
   "cell_type": "markdown",
   "metadata": {},
   "source": [
    "# Same for 2008"
   ]
  },
  {
   "cell_type": "code",
   "execution_count": null,
   "metadata": {},
   "outputs": [],
   "source": [
    "p2008 = pd.read_csv(\"Datasets/2008P.csv\")\n",
    "p2008.head()"
   ]
  },
  {
   "cell_type": "code",
   "execution_count": null,
   "metadata": {},
   "outputs": [],
   "source": [
    "p2008 = p2008.rename(columns={\"STATE\":\"State\",\n",
    "                              \"McCain (R)\":\"Republican\",\n",
    "                              \"Obama (D)\":\"Democratic\",\n",
    "                              \"All Others\":\"Others\"})\n",
    "p2008.head()"
   ]
  },
  {
   "cell_type": "code",
   "execution_count": null,
   "metadata": {},
   "outputs": [],
   "source": [
    "p2008.tail()"
   ]
  },
  {
   "cell_type": "code",
   "execution_count": null,
   "metadata": {},
   "outputs": [],
   "source": [
    "# p2008 = p2008.dropna()\n",
    "p2008[-1:][\"State\"]\n",
    "p2008[\"State\"] = p2008[\"State\"].replace(p2008[-1:][\"State\"],\"Total\")\n",
    "p2008.tail()"
   ]
  },
  {
   "cell_type": "code",
   "execution_count": null,
   "metadata": {},
   "outputs": [],
   "source": [
    "# p2008['Republican'] = p2008['Republican'].str.replace(',', '').astype(int)\n",
    "# p2008['Democratic'] = p2008['Democratic'].str.replace(',', '').astype(int)\n",
    "# p2008['Others'] = p2008['Others'].str.replace(',', '').astype(int)\n",
    "# p2008.head()"
   ]
  },
  {
   "cell_type": "code",
   "execution_count": null,
   "metadata": {},
   "outputs": [],
   "source": [
    "p2008[\"Year\"] = 2008\n",
    "p2008[\"Election\"] = \"Pres\"\n",
    "p2008.head()"
   ]
  },
  {
   "cell_type": "code",
   "execution_count": null,
   "metadata": {},
   "outputs": [],
   "source": [
    "p2008[\"PercentD\"] = (p2008[\"Democratic\"] / (p2008[\"Republican\"] + p2008[\"Democratic\"] + p2008[\"Others\"])) * 100\n",
    "p2008.head()"
   ]
  },
  {
   "cell_type": "code",
   "execution_count": null,
   "metadata": {},
   "outputs": [],
   "source": [
    "p2008[\"Dem Win\"] = p2008[\"Democratic\"] > p2008[\"Republican\"]\n",
    "p2008.head()"
   ]
  },
  {
   "cell_type": "markdown",
   "metadata": {},
   "source": [
    "# Same for 2012"
   ]
  },
  {
   "cell_type": "code",
   "execution_count": null,
   "metadata": {},
   "outputs": [],
   "source": [
    "p2012 = pd.read_csv(\"Datasets/2012P.csv\")\n",
    "p2012.head()"
   ]
  },
  {
   "cell_type": "code",
   "execution_count": null,
   "metadata": {},
   "outputs": [],
   "source": [
    "p2012 = p2012.rename(columns={\"STATE\":\"State\",\n",
    "                              \"Romney (R)\":\"Republican\",\n",
    "                              \"Obama (D)\":\"Democratic\",\n",
    "                              \"All Others\":\"Others\"})\n",
    "p2012.head()"
   ]
  },
  {
   "cell_type": "code",
   "execution_count": null,
   "metadata": {},
   "outputs": [],
   "source": [
    "p2012.tail()"
   ]
  },
  {
   "cell_type": "code",
   "execution_count": null,
   "metadata": {},
   "outputs": [],
   "source": [
    "# p2012 = p2012.dropna()\n",
    "p2012[-1:][\"State\"]\n",
    "p2012[\"State\"] = p2012[\"State\"].replace(p2012[-1:][\"State\"],\"Total\")\n",
    "p2012.tail()"
   ]
  },
  {
   "cell_type": "code",
   "execution_count": null,
   "metadata": {},
   "outputs": [],
   "source": [
    "# p2012['Republican'] = p2012['Republican'].str.replace(',', '').astype(int)\n",
    "# p2012['Democratic'] = p2012['Democratic'].str.replace(',', '').astype(int)\n",
    "# p2012['Others'] = p2012['Others'].str.replace(',', '').astype(int)\n",
    "# p2012.head()"
   ]
  },
  {
   "cell_type": "code",
   "execution_count": null,
   "metadata": {},
   "outputs": [],
   "source": [
    "p2012[\"Year\"] = 2012\n",
    "p2012[\"Election\"] = \"Pres\"\n",
    "p2012.head()"
   ]
  },
  {
   "cell_type": "code",
   "execution_count": null,
   "metadata": {},
   "outputs": [],
   "source": [
    "p2012[\"PercentD\"] = (p2012[\"Democratic\"] / (p2012[\"Republican\"] + p2012[\"Democratic\"] + p2012[\"Others\"])) * 100\n",
    "p2012.head()"
   ]
  },
  {
   "cell_type": "code",
   "execution_count": null,
   "metadata": {},
   "outputs": [],
   "source": [
    "p2012[\"Dem Win\"] = p2012[\"Democratic\"] > p2012[\"Republican\"]\n",
    "p2012.head()"
   ]
  },
  {
   "cell_type": "markdown",
   "metadata": {},
   "source": [
    "# Same for 2016"
   ]
  },
  {
   "cell_type": "code",
   "execution_count": null,
   "metadata": {},
   "outputs": [],
   "source": [
    "p2016 = pd.read_csv(\"Datasets/2016P.csv\")\n",
    "p2016.head()"
   ]
  },
  {
   "cell_type": "code",
   "execution_count": null,
   "metadata": {},
   "outputs": [],
   "source": [
    "p2016 = p2016.rename(columns={\"Unnamed: 0\":\"State\",\n",
    "                              \"Trump (R)\":\"Republican\",\n",
    "                              \"Clinton (D)\":\"Democratic\",\n",
    "                              \"All Others\":\"Others\"})\n",
    "p2016.head()"
   ]
  },
  {
   "cell_type": "code",
   "execution_count": null,
   "metadata": {},
   "outputs": [],
   "source": [
    "p2016.tail()"
   ]
  },
  {
   "cell_type": "code",
   "execution_count": null,
   "metadata": {},
   "outputs": [],
   "source": [
    "p2016 = p2016.dropna()\n",
    "p2016[-1:][\"State\"]\n",
    "p2016[\"State\"] = p2016[\"State\"].replace(p2016[-1:][\"State\"],\"Total\")\n",
    "p2016.tail()"
   ]
  },
  {
   "cell_type": "code",
   "execution_count": null,
   "metadata": {},
   "outputs": [],
   "source": [
    "p2016['Republican'] = p2016['Republican'].str.replace(',', '').astype(int)\n",
    "p2016['Democratic'] = p2016['Democratic'].str.replace(',', '').astype(int)\n",
    "p2016['Others'] = p2016['Others'].str.replace(',', '').astype(int)\n",
    "p2016.head()"
   ]
  },
  {
   "cell_type": "code",
   "execution_count": null,
   "metadata": {},
   "outputs": [],
   "source": [
    "p2016[\"Year\"] = 2016\n",
    "p2016[\"Election\"] = \"Pres\"\n",
    "p2016.head()"
   ]
  },
  {
   "cell_type": "code",
   "execution_count": null,
   "metadata": {},
   "outputs": [],
   "source": [
    "p2016[\"PercentD\"] = (p2016[\"Democratic\"] / (p2016[\"Republican\"] + p2016[\"Democratic\"] + p2016[\"Others\"])) * 100\n",
    "p2016.head()"
   ]
  },
  {
   "cell_type": "code",
   "execution_count": null,
   "metadata": {},
   "outputs": [],
   "source": [
    "p2016[\"Dem Win\"] = p2016[\"Democratic\"] > p2016[\"Republican\"]\n",
    "p2016.head()"
   ]
  },
  {
   "cell_type": "markdown",
   "metadata": {},
   "source": [
    "# Inserting changes in Democratic vote to the previous election"
   ]
  },
  {
   "cell_type": "code",
   "execution_count": null,
   "metadata": {},
   "outputs": [],
   "source": [
    "change = []\n",
    "for state in p2016[\"State\"]:\n",
    "    chg = (p2016.loc[p2016[\"State\"] == state, \"PercentD\"].iloc[0] - p2012.loc[p2012[\"State\"] == state, \"PercentD\"].iloc[0])\n",
    "    change.append(chg)\n",
    "p2016[\"Change\"] = change\n",
    "p2016.head()"
   ]
  },
  {
   "cell_type": "code",
   "execution_count": null,
   "metadata": {},
   "outputs": [],
   "source": [
    "change = []\n",
    "for state in p2012[\"State\"]:\n",
    "    chg = (p2012.loc[p2012[\"State\"] == state, \"PercentD\"].iloc[0] - p2008.loc[p2008[\"State\"] == state, \"PercentD\"].iloc[0])\n",
    "    change.append(chg)\n",
    "p2012[\"Change\"] = change\n",
    "p2012.head()"
   ]
  },
  {
   "cell_type": "code",
   "execution_count": null,
   "metadata": {},
   "outputs": [],
   "source": [
    "change = []\n",
    "for state in p2008[\"State\"]:\n",
    "    chg = (p2008.loc[p2008[\"State\"] == state, \"PercentD\"].iloc[0] - p2004.loc[p2004[\"State\"] == state, \"PercentD\"].iloc[0])\n",
    "    change.append(chg)\n",
    "p2008[\"Change\"] = change\n",
    "p2008.head()"
   ]
  },
  {
   "cell_type": "code",
   "execution_count": null,
   "metadata": {},
   "outputs": [],
   "source": [
    "change = []\n",
    "for state in p2004[\"State\"]:\n",
    "    chg = (p2004.loc[p2004[\"State\"] == state, \"PercentD\"].iloc[0] - p2000.loc[p2000[\"State\"] == state, \"PercentD\"].iloc[0])\n",
    "    change.append(chg)\n",
    "p2004[\"Change\"] = change\n",
    "p2004.head()"
   ]
  },
  {
   "cell_type": "code",
   "execution_count": null,
   "metadata": {
    "scrolled": true
   },
   "outputs": [],
   "source": [
    "p_all = p2000.append(p2004, ignore_index=True)\n",
    "p_all = p_all.append(p2008, ignore_index=True)\n",
    "p_all = p_all.append(p2012, ignore_index=True)\n",
    "p_all = p_all.append(p2016, ignore_index=True)\n",
    "p_all"
   ]
  },
  {
   "cell_type": "code",
   "execution_count": null,
   "metadata": {},
   "outputs": [],
   "source": [
    "def group_states(dem_wins):\n",
    "    group = \"Swing\"\n",
    "    if dem_wins > 4.5:\n",
    "        group = \"Blue\"\n",
    "    elif dem_wins < 0.5:\n",
    "        group = \"Red\"\n",
    "    return group"
   ]
  },
  {
   "cell_type": "code",
   "execution_count": null,
   "metadata": {},
   "outputs": [],
   "source": [
    "states = p_all.loc[p_all[\"State\"] != \"Total\"]\n",
    "states = states.groupby(\"State\").sum()\n",
    "state_wins = pd.DataFrame({\"Dem Wins\":states[\"Dem Win\"]})\n",
    "state_wins[\"Group\"] = state_wins[\"Dem Wins\"].map(group_states,state_wins.iterrows())\n",
    "state_wins"
   ]
  },
  {
   "cell_type": "code",
   "execution_count": null,
   "metadata": {},
   "outputs": [],
   "source": [
    "p_all.to_csv('p_all.csv',index=False)"
   ]
  },
  {
   "cell_type": "code",
   "execution_count": null,
   "metadata": {},
   "outputs": [],
   "source": [
    "state_wins.to_csv('stategroups.csv',index=True)"
   ]
  }
 ],
 "metadata": {
  "kernelspec": {
   "display_name": "Python 3",
   "language": "python",
   "name": "python3"
  },
  "language_info": {
   "codemirror_mode": {
    "name": "ipython",
    "version": 3
   },
   "file_extension": ".py",
   "mimetype": "text/x-python",
   "name": "python",
   "nbconvert_exporter": "python",
   "pygments_lexer": "ipython3",
   "version": "3.6.10"
  }
 },
 "nbformat": 4,
 "nbformat_minor": 4
}
